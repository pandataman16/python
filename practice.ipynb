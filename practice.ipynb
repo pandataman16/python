{
 "cells": [
  {
   "cell_type": "code",
   "execution_count": null,
   "id": "94943d14-0e82-4bfc-ab1f-ab53a2abfcc8",
   "metadata": {},
   "outputs": [],
   "source": [
    "#reverse a number with pallindrome\n",
    "#armstrong numbers\n",
    "#prime numbers\n",
    "#real numbers\n",
    "#table\n",
    "#atoz print\n",
    "#recursion "
   ]
  },
  {
   "cell_type": "code",
   "execution_count": null,
   "id": "011c8803-d213-4d4a-b21c-70fffdb39885",
   "metadata": {},
   "outputs": [],
   "source": [
    "#reverse number\n",
    "num=int(input(\"enter the number\"))\n",
    "rev=0\n",
    "org=num\n",
    "while(num>0):\n",
    "    lastdigit=num%10\n",
    "    rev=rev*10+lastdigit\n",
    "    num=num//10\n",
    "print(\"reverse number\",rev)\n",
    "print(\"original number\",org)"
   ]
  },
  {
   "cell_type": "code",
   "execution_count": 11,
   "id": "f18779d9-83bf-477e-ada5-6230139131ae",
   "metadata": {},
   "outputs": [
    {
     "name": "stdin",
     "output_type": "stream",
     "text": [
      "Enter the number 456654\n"
     ]
    },
    {
     "name": "stdout",
     "output_type": "stream",
     "text": [
      "Reverse number 456654\n",
      "original number 456654\n",
      "number is pallindrome\n"
     ]
    }
   ],
   "source": [
    "#pallindrome numbers\n",
    "num=int(input(\"Enter the number\"))\n",
    "rev=0\n",
    "org=num\n",
    "while(num>0):\n",
    "    lastdigit=num%10\n",
    "    rev=rev*10+lastdigit\n",
    "    num=num//10\n",
    "print(\"Reverse number\",rev)\n",
    "print(\"original number\",org)\n",
    "if(org==rev):\n",
    "    print(\"number is pallindrome\")\n",
    "else:\n",
    "    print(\"Number is non pallindrome\")"
   ]
  },
  {
   "cell_type": "code",
   "execution_count": null,
   "id": "5bd8f97b-d9e4-473e-81d8-450c24d28566",
   "metadata": {},
   "outputs": [],
   "source": [
    "#prime numbers"
   ]
  },
  {
   "cell_type": "code",
   "execution_count": null,
   "id": "9d520188-b6d7-43f4-bc06-5daf22120dc9",
   "metadata": {},
   "outputs": [],
   "source": [
    "num=int(input(\"enter the number\"))\n",
    "for i in range(2,num):\n",
    "    if(num%i)==0:\n",
    "        print(\"Not prime\")\n",
    "        break\n",
    "else:\n",
    "    print(\"prime\")"
   ]
  },
  {
   "cell_type": "code",
   "execution_count": null,
   "id": "a6b1758b-781f-4e90-92cd-4198b54228a9",
   "metadata": {},
   "outputs": [],
   "source": [
    "start=int(input(\"enter thr number\"))\n",
    "end=int(input(\"enter the number\"))\n",
    "for i in range(start,end+1):\n",
    "    for j in range(2,i):\n",
    "        if(i%j)==0:\n",
    "            break\n",
    "    else:\n",
    "        print(i)"
   ]
  },
  {
   "cell_type": "code",
   "execution_count": null,
   "id": "9ec4bca6-b176-4b70-98dd-7528fd8edadc",
   "metadata": {},
   "outputs": [],
   "source": [
    "a=int(input(\"no\"))\n",
    "b=1\n",
    "while(b<=10):\n",
    "    print(a,\"*\",b,\"=\",a*b)\n",
    "    b+=1"
   ]
  },
  {
   "cell_type": "code",
   "execution_count": null,
   "id": "b99f4964-77cd-478a-ac07-fe477aaa139c",
   "metadata": {},
   "outputs": [],
   "source": []
  },
  {
   "cell_type": "code",
   "execution_count": null,
   "id": "26b65482-c34e-4e8f-beec-e7aba6abde98",
   "metadata": {},
   "outputs": [],
   "source": [
    "a=int(input(\"enter the number\"))\n",
    "b=1\n",
    "while(b<=10):\n",
    "    print(a,\"*\",b,\"=\",a*b)\n",
    "    b+=1"
   ]
  },
  {
   "cell_type": "code",
   "execution_count": null,
   "id": "cee10b86-111b-449e-b937-fba7fc0b1605",
   "metadata": {},
   "outputs": [],
   "source": [
    "a=int(input(\"enter the number\"))\n",
    "b=1\n",
    "while(b<=10):\n",
    "    print(a,\"*\",b,\"=\",a*b)\n",
    "    b+=1"
   ]
  },
  {
   "cell_type": "code",
   "execution_count": 1,
   "id": "74751d29-e9c2-47b7-aa0c-cefa3b34dd33",
   "metadata": {},
   "outputs": [
    {
     "name": "stdin",
     "output_type": "stream",
     "text": [
      "enter the number 5\n"
     ]
    },
    {
     "name": "stdout",
     "output_type": "stream",
     "text": [
      "5 * 1 = 5\n",
      "5 * 2 = 10\n",
      "5 * 3 = 15\n",
      "5 * 4 = 20\n",
      "5 * 5 = 25\n",
      "5 * 6 = 30\n",
      "5 * 7 = 35\n",
      "5 * 8 = 40\n",
      "5 * 9 = 45\n",
      "5 * 10 = 50\n"
     ]
    }
   ],
   "source": [
    "a=int(input(\"enter the number\"))\n",
    "b=1\n",
    "while(b<=10):\n",
    "    print(a,\"*\",b,\"=\",a*b)\n",
    "    b+=1"
   ]
  },
  {
   "cell_type": "code",
   "execution_count": 5,
   "id": "7635743f-99e0-46a6-b8ac-a018e1b8909f",
   "metadata": {},
   "outputs": [
    {
     "name": "stdin",
     "output_type": "stream",
     "text": [
      "Enter a number 5\n"
     ]
    },
    {
     "name": "stdout",
     "output_type": "stream",
     "text": [
      "5 * 1 = 5\n",
      "5 * 2 = 10\n",
      "5 * 3 = 15\n",
      "5 * 4 = 20\n",
      "5 * 5 = 25\n",
      "5 * 6 = 30\n",
      "5 * 7 = 35\n",
      "5 * 8 = 40\n",
      "5 * 9 = 45\n",
      "5 * 10 = 50\n"
     ]
    }
   ],
   "source": [
    "num=int(input(\"Enter a number\"))\n",
    "i=1\n",
    "while(i<=10):\n",
    "    print(num,\"*\",i,\"=\",num*i)\n",
    "    i+=1"
   ]
  },
  {
   "cell_type": "code",
   "execution_count": 2,
   "id": "aa11a279-68bb-4f52-b183-fb2eccee320e",
   "metadata": {},
   "outputs": [
    {
     "name": "stdin",
     "output_type": "stream",
     "text": [
      "enter the number 4\n"
     ]
    },
    {
     "name": "stdout",
     "output_type": "stream",
     "text": [
      "4 * 1 = 4\n",
      "4 * 2 = 8\n",
      "4 * 3 = 12\n",
      "4 * 4 = 16\n",
      "4 * 5 = 20\n",
      "4 * 6 = 24\n",
      "4 * 7 = 28\n",
      "4 * 8 = 32\n",
      "4 * 9 = 36\n",
      "4 * 10 = 40\n"
     ]
    }
   ],
   "source": [
    "a=int(input(\"enter the number\"))\n",
    "b=1\n",
    "while(b<=10):\n",
    "    print(a,\"*\",b,\"=\",a*b)\n",
    "    b+=1"
   ]
  },
  {
   "cell_type": "code",
   "execution_count": 4,
   "id": "86b7c58d-5af0-4551-9a03-4e8cb2b223d9",
   "metadata": {},
   "outputs": [
    {
     "name": "stdin",
     "output_type": "stream",
     "text": [
      "enter a number 8\n"
     ]
    },
    {
     "name": "stdout",
     "output_type": "stream",
     "text": [
      "not prime\n"
     ]
    }
   ],
   "source": [
    "num=int(input(\"enter a number\"))\n",
    "for i in range(2,num):\n",
    "    if(num%i)==0:\n",
    "        print(\"not prime\")\n",
    "        break\n",
    "else:\n",
    "    print(\"prime\")"
   ]
  },
  {
   "cell_type": "code",
   "execution_count": 7,
   "id": "9b1d1b0f-a678-449e-a2b0-e7beceeccd96",
   "metadata": {},
   "outputs": [
    {
     "name": "stdin",
     "output_type": "stream",
     "text": [
      "no. 7\n"
     ]
    },
    {
     "name": "stdout",
     "output_type": "stream",
     "text": [
      "7 * 1 = 7\n",
      "7 * 2 = 14\n",
      "7 * 3 = 21\n",
      "7 * 4 = 28\n"
     ]
    }
   ],
   "source": [
    "x=int(input(\"no.\"))\n",
    "y=1\n",
    "z=10\n",
    "for i in range(x,z+1):\n",
    "    print(x,\"*\",y,\"=\",x*y)\n",
    "    y+=1"
   ]
  },
  {
   "cell_type": "code",
   "execution_count": 19,
   "id": "5ecdea13-a1e3-4b4e-a53e-4450fd137dbc",
   "metadata": {},
   "outputs": [
    {
     "name": "stdin",
     "output_type": "stream",
     "text": [
      "Enter the number 4\n",
      "Enter the number 99\n"
     ]
    },
    {
     "name": "stdout",
     "output_type": "stream",
     "text": [
      "5\n",
      "7\n",
      "11\n",
      "13\n",
      "17\n",
      "19\n",
      "23\n",
      "29\n",
      "31\n",
      "37\n",
      "41\n",
      "43\n",
      "47\n",
      "53\n",
      "59\n",
      "61\n",
      "67\n",
      "71\n",
      "73\n",
      "79\n",
      "83\n",
      "89\n",
      "97\n"
     ]
    }
   ],
   "source": [
    "a=int(input(\"Enter the number\"))\n",
    "b=int(input(\"Enter the number\"))\n",
    "for i in range(a,b+1):\n",
    "    for j in range(2,i):\n",
    "        if(i%j)==0:\n",
    "            break\n",
    "    else:\n",
    "        print(i)\n",
    "    "
   ]
  },
  {
   "cell_type": "code",
   "execution_count": 2,
   "id": "1a94da70-08fe-4cfe-84b5-ec4e62475541",
   "metadata": {},
   "outputs": [
    {
     "name": "stdin",
     "output_type": "stream",
     "text": [
      "enter the number 6\n"
     ]
    },
    {
     "name": "stdout",
     "output_type": "stream",
     "text": [
      "6 * 1 = 6\n",
      "6 * 2 = 12\n",
      "6 * 3 = 18\n",
      "6 * 4 = 24\n",
      "6 * 5 = 30\n",
      "6 * 6 = 36\n",
      "6 * 7 = 42\n",
      "6 * 8 = 48\n",
      "6 * 9 = 54\n",
      "6 * 10 = 60\n"
     ]
    }
   ],
   "source": [
    "a=int(input(\"enter the number\"))\n",
    "b=1\n",
    "while(b<=10):\n",
    "    print(a,\"*\",b,\"=\",a*b)\n",
    "    b+=1"
   ]
  },
  {
   "cell_type": "code",
   "execution_count": 4,
   "id": "cb30b931-6fd5-435c-921f-b00b08446f1f",
   "metadata": {},
   "outputs": [
    {
     "name": "stdin",
     "output_type": "stream",
     "text": [
      "Enter a number 456987\n"
     ]
    },
    {
     "name": "stdout",
     "output_type": "stream",
     "text": [
      "reverse number 789654\n",
      "original number 456987\n"
     ]
    }
   ],
   "source": [
    "#reverse number\n",
    "num=int(input(\"Enter a number\"))\n",
    "rev=0\n",
    "org=num\n",
    "while(num>0):\n",
    "    lastdigit=num%10\n",
    "    rev=rev*10+lastdigit\n",
    "    num=num//10\n",
    "print(\"reverse number\",rev)\n",
    "print(\"original number\",org)"
   ]
  },
  {
   "cell_type": "code",
   "execution_count": 6,
   "id": "8c126721-1107-43c3-9757-6e68afe823a5",
   "metadata": {},
   "outputs": [
    {
     "name": "stdin",
     "output_type": "stream",
     "text": [
      "Enter a number 444444\n"
     ]
    },
    {
     "name": "stdout",
     "output_type": "stream",
     "text": [
      "reverse number 444444\n",
      "original number 444444\n",
      "paliindrome number\n"
     ]
    }
   ],
   "source": [
    "num=int(input(\"Enter a number\"))\n",
    "rev=0\n",
    "org=num\n",
    "while(num>0):\n",
    "    lastdigit=num%10\n",
    "    rev=rev*10+lastdigit\n",
    "    num=num//10\n",
    "print(\"reverse number\",rev)\n",
    "print(\"original number\",org)\n",
    "if(org==rev):\n",
    "    print(\"paliindrome number\")\n",
    "else:\n",
    "    print(\"non pallindrome\")"
   ]
  },
  {
   "cell_type": "code",
   "execution_count": 13,
   "id": "8b9195c4-525f-496f-8be1-5be565eb303a",
   "metadata": {},
   "outputs": [
    {
     "name": "stdin",
     "output_type": "stream",
     "text": [
      "Enter a number 4\n",
      "Enter a number 555\n"
     ]
    },
    {
     "ename": "TypeError",
     "evalue": "object of type 'int' has no len()",
     "output_type": "error",
     "traceback": [
      "\u001b[1;31m---------------------------------------------------------------------------\u001b[0m",
      "\u001b[1;31mTypeError\u001b[0m                                 Traceback (most recent call last)",
      "Cell \u001b[1;32mIn[13], line 5\u001b[0m\n\u001b[0;32m      3\u001b[0m n\u001b[38;5;241m=\u001b[39m\u001b[38;5;28mint\u001b[39m(\u001b[38;5;28minput\u001b[39m(\u001b[38;5;124m\"\u001b[39m\u001b[38;5;124mEnter a number\u001b[39m\u001b[38;5;124m\"\u001b[39m))\n\u001b[0;32m      4\u001b[0m arm\u001b[38;5;241m=\u001b[39m\u001b[38;5;241m0\u001b[39m\n\u001b[1;32m----> 5\u001b[0m lenght\u001b[38;5;241m=\u001b[39m\u001b[38;5;28mstr\u001b[39m(\u001b[38;5;28;43mlen\u001b[39;49m\u001b[43m(\u001b[49m\u001b[43mnum\u001b[49m\u001b[43m)\u001b[49m)\n\u001b[0;32m      6\u001b[0m \u001b[38;5;28;01mwhile\u001b[39;00m(num\u001b[38;5;241m>\u001b[39mn):\n\u001b[0;32m      7\u001b[0m     lastdigit\u001b[38;5;241m=\u001b[39mnum\u001b[38;5;241m%\u001b[39m\u001b[38;5;241m10\u001b[39m\n",
      "\u001b[1;31mTypeError\u001b[0m: object of type 'int' has no len()"
     ]
    }
   ],
   "source": [
    "#Armstrong number\n",
    "num=int(input(\"Enter a number\"))\n",
    "n=int(input(\"Enter a number\"))\n",
    "arm=0\n",
    "lenght=str(len(num))\n",
    "while(num>n):\n",
    "    lastdigit=num%10\n",
    "    arm=lastdigit**lenght\n",
    "    num=num//10\n",
    "print(\"armstrong\")"
   ]
  },
  {
   "cell_type": "code",
   "execution_count": 17,
   "id": "286ccacc-c006-4cae-b2fc-9abbf6823bb0",
   "metadata": {},
   "outputs": [
    {
     "name": "stdin",
     "output_type": "stream",
     "text": [
      "enter the number 154\n"
     ]
    },
    {
     "name": "stdout",
     "output_type": "stream",
     "text": [
      "not armstrong\n"
     ]
    }
   ],
   "source": [
    "num=int(input(\"enter the number\"))\n",
    "temp=num\n",
    "result=0\n",
    "lenght=len(str(temp))\n",
    "while(temp>0):\n",
    "    lastdigit=temp%10\n",
    "    result=result+lastdigit**lenght\n",
    "    temp=temp//10\n",
    "if(num==result):\n",
    "    print(\"number is armstrong\")\n",
    "else:\n",
    "    print(\"not armstrong\")"
   ]
  },
  {
   "cell_type": "code",
   "execution_count": null,
   "id": "8a876ba0-21c7-4a74-9e97-e18b5ed98dca",
   "metadata": {},
   "outputs": [
    {
     "name": "stdin",
     "output_type": "stream",
     "text": [
      "Enter the number 4\n",
      "emter the number 500\n"
     ]
    },
    {
     "name": "stdout",
     "output_type": "stream",
     "text": [
      "4\n",
      "5\n",
      "6\n",
      "7\n",
      "8\n",
      "9\n"
     ]
    }
   ],
   "source": [
    "i=int(input(\"Enter the number\"))\n",
    "j=int(input(\"emter the number\"))\n",
    "while(i<j):\n",
    "    num=i\n",
    "    temp=num\n",
    "    result=0\n",
    "    lengh=len(str(temp))\n",
    "    while(temp>0):\n",
    "        lastdigit=temp%10\n",
    "        result=result+lastdigit**lengh\n",
    "        temp=temp//10\n",
    "    if(result==num):\n",
    "        print(num)\n",
    "        i+=1"
   ]
  },
  {
   "cell_type": "code",
   "execution_count": 1,
   "id": "d57f2071-09a9-45b4-883d-b9fba95ce701",
   "metadata": {},
   "outputs": [
    {
     "name": "stdin",
     "output_type": "stream",
     "text": [
      "enter the numbeer 4\n",
      "enter the numbeer 1000\n"
     ]
    },
    {
     "name": "stdout",
     "output_type": "stream",
     "text": [
      "4\n",
      "5\n",
      "6\n",
      "7\n",
      "8\n",
      "9\n",
      "153\n",
      "370\n",
      "371\n",
      "407\n"
     ]
    }
   ],
   "source": [
    "i = int(input(\"enter the numbeer\"))\n",
    "j=int(input(\"enter the numbeer\"))\n",
    "while i < j:\n",
    "    num=i\n",
    "    temp=num\n",
    "    result=0\n",
    "    lenth=len(str(temp))\n",
    "    while(temp>0):\n",
    "        lastdigit=temp%10\n",
    "        result=result+lastdigit**lenth\n",
    "        temp=temp//10\n",
    "    if(result==num):\n",
    "        print(num)\n",
    "    i += 1 "
   ]
  },
  {
   "cell_type": "code",
   "execution_count": null,
   "id": "7b1ad7c6-c8e6-4daf-a5ba-f8af02797e8d",
   "metadata": {},
   "outputs": [],
   "source": [
    "#doubt"
   ]
  },
  {
   "cell_type": "code",
   "execution_count": null,
   "id": "4ce09fe6-e926-4ad7-a4ca-036fd81ad515",
   "metadata": {},
   "outputs": [],
   "source": [
    "i=int(input(\"Enter the number\"))\n",
    "j=int(input(\"emter the number\"))\n",
    "while i<j:\n",
    "    num=i\n",
    "    temp=num\n",
    "    result=0\n",
    "    lengh=len(str(temp))\n",
    "    while(temp>0):\n",
    "        lastdigit=temp%10\n",
    "        result=result+lastdigit**lengh\n",
    "        temp=temp//10\n",
    "    if(result==num):\n",
    "        print(num)\n",
    "        i+=1"
   ]
  },
  {
   "cell_type": "code",
   "execution_count": null,
   "id": "326bdd4a-a38f-48e8-9936-b88c39af6f2e",
   "metadata": {},
   "outputs": [],
   "source": [
    "i = int(input(\"enter the numbeer\"))\n",
    "j=int(input(\"enter the numbeer\"))\n",
    "while i < j:\n",
    "    num=i\n",
    "    temp=num\n",
    "    result=0\n",
    "    lenth=len(str(temp))\n",
    "    while(temp>0):\n",
    "        lastdigit=temp%10\n",
    "        result=result+lastdigit**lenth\n",
    "        temp=temp//10\n",
    "    if(result==num):\n",
    "        print(num)\n",
    "    i += 1 "
   ]
  },
  {
   "cell_type": "code",
   "execution_count": 3,
   "id": "67927afc-2187-4390-b054-3a314429b593",
   "metadata": {},
   "outputs": [
    {
     "name": "stdin",
     "output_type": "stream",
     "text": [
      "Enter a number 18\n"
     ]
    },
    {
     "name": "stdout",
     "output_type": "stream",
     "text": [
      "18 * 1 = 18\n",
      "18 * 2 = 36\n",
      "18 * 3 = 54\n",
      "18 * 4 = 72\n",
      "18 * 5 = 90\n",
      "18 * 6 = 108\n",
      "18 * 7 = 126\n",
      "18 * 8 = 144\n",
      "18 * 9 = 162\n",
      "18 * 10 = 180\n"
     ]
    }
   ],
   "source": [
    "num=int(input(\"Enter a number\"))\n",
    "n=1\n",
    "while(n<=10):\n",
    "    print(num,\"*\",n,\"=\",num*n)\n",
    "    n+=1"
   ]
  },
  {
   "cell_type": "code",
   "execution_count": 8,
   "id": "23dbe386-bae6-4621-b472-d229dec34ea1",
   "metadata": {},
   "outputs": [
    {
     "name": "stdin",
     "output_type": "stream",
     "text": [
      "enter the number 69\n"
     ]
    },
    {
     "name": "stdout",
     "output_type": "stream",
     "text": [
      "69 * 1 = 69\n",
      "69 * 2 = 138\n",
      "69 * 3 = 207\n",
      "69 * 4 = 276\n",
      "69 * 5 = 345\n",
      "69 * 6 = 414\n",
      "69 * 7 = 483\n",
      "69 * 8 = 552\n",
      "69 * 9 = 621\n",
      "69 * 10 = 690\n"
     ]
    }
   ],
   "source": [
    "a=int(input(\"enter the number\"))\n",
    "b=1\n",
    "while(b<=10):\n",
    "    print(a,\"*\",b,\"=\",a*b)\n",
    "    b+=1"
   ]
  },
  {
   "cell_type": "code",
   "execution_count": 9,
   "id": "2a4f467e-9a34-4326-b649-917b2d84bb9c",
   "metadata": {},
   "outputs": [],
   "source": [
    "#reverse number"
   ]
  },
  {
   "cell_type": "code",
   "execution_count": 13,
   "id": "bdc1eb9c-ec1e-42e7-8d4b-2b6f681c9f21",
   "metadata": {},
   "outputs": [
    {
     "name": "stdin",
     "output_type": "stream",
     "text": [
      "Enter a number 456654\n"
     ]
    },
    {
     "name": "stdout",
     "output_type": "stream",
     "text": [
      "reverse number 456654\n",
      "original number 456654\n"
     ]
    }
   ],
   "source": [
    "num=int(input(\"Enter a number\"))\n",
    "rev=0\n",
    "org=num\n",
    "while(num>0):\n",
    "    lastdigit=num%10\n",
    "    rev=rev*10+lastdigit\n",
    "    num=num//10\n",
    "print(\"reverse number\",rev)\n",
    "print(\"original number\",org)"
   ]
  },
  {
   "cell_type": "code",
   "execution_count": 12,
   "id": "dd568c1a-95f1-4d9e-9ab3-93ec7528cc9e",
   "metadata": {},
   "outputs": [
    {
     "name": "stdin",
     "output_type": "stream",
     "text": [
      "Enter the number 456654\n"
     ]
    },
    {
     "name": "stdout",
     "output_type": "stream",
     "text": [
      "Reverse number 456654\n",
      "original number 456654\n"
     ]
    }
   ],
   "source": [
    "num=int(input(\"Enter the number\"))\n",
    "rev=0\n",
    "org=num\n",
    "while(num>0):\n",
    "    lastdigit=num%10\n",
    "    rev=rev*10+lastdigit\n",
    "    num=num//10\n",
    "print(\"Reverse number\",rev)\n",
    "print(\"original number\",org)"
   ]
  },
  {
   "cell_type": "code",
   "execution_count": 15,
   "id": "68f4302a-8e06-46de-b8b8-29c869b40b25",
   "metadata": {},
   "outputs": [
    {
     "name": "stdin",
     "output_type": "stream",
     "text": [
      "Enter the number 456654\n"
     ]
    },
    {
     "name": "stdout",
     "output_type": "stream",
     "text": [
      "reverse number 456654\n",
      "original number 456654\n",
      "numnber is pallindrome\n"
     ]
    }
   ],
   "source": [
    "num=int(input(\"Enter the number\"))\n",
    "rev=0\n",
    "org=num\n",
    "while(num>0):\n",
    "    lastdigit=num%10\n",
    "    rev=rev*10+lastdigit\n",
    "    num=num//10\n",
    "print(\"reverse number\",rev)\n",
    "print(\"original number\",org)\n",
    "if (org==rev):\n",
    "    print(\"numnber is pallindrome\")\n",
    "else:\n",
    "    print(\"number is non pallindrome\")"
   ]
  },
  {
   "cell_type": "code",
   "execution_count": 17,
   "id": "2b6099b1-5cf1-4b2c-8fcc-8e374bde6595",
   "metadata": {},
   "outputs": [
    {
     "name": "stdin",
     "output_type": "stream",
     "text": [
      "Enter the number 4\n"
     ]
    },
    {
     "name": "stdout",
     "output_type": "stream",
     "text": [
      "no. is not prime\n"
     ]
    }
   ],
   "source": [
    "#prime number\n",
    "num=int(input(\"Enter the number\"))\n",
    "for i in range(2,num):\n",
    "    if(num%i)==0:\n",
    "        print(\"no. is not prime\")\n",
    "        break\n",
    "    else:\n",
    "        print(\"no. is prime\")"
   ]
  },
  {
   "cell_type": "code",
   "execution_count": 19,
   "id": "b51bca8f-57cb-4d8f-9bb3-697e7bc07cc6",
   "metadata": {},
   "outputs": [
    {
     "name": "stdin",
     "output_type": "stream",
     "text": [
      "Enter a number 4\n",
      "Enter a number 99\n"
     ]
    },
    {
     "name": "stdout",
     "output_type": "stream",
     "text": [
      "5\n",
      "7\n",
      "11\n",
      "13\n",
      "17\n",
      "19\n",
      "23\n",
      "29\n",
      "31\n",
      "37\n",
      "41\n",
      "43\n",
      "47\n",
      "53\n",
      "59\n",
      "61\n",
      "67\n",
      "71\n",
      "73\n",
      "79\n",
      "83\n",
      "89\n",
      "97\n"
     ]
    }
   ],
   "source": [
    "start=int(input(\"Enter a number\"))\n",
    "end=int(input(\"Enter a number\"))\n",
    "for i in range(start,end+1):\n",
    "    for j in range(2,i):\n",
    "        if (i%j)==0:\n",
    "            break\n",
    "    else:\n",
    "        print(i)"
   ]
  },
  {
   "cell_type": "code",
   "execution_count": 22,
   "id": "5a4384d6-9665-4f6c-ae33-aa10af35b7ca",
   "metadata": {},
   "outputs": [
    {
     "name": "stdin",
     "output_type": "stream",
     "text": [
      "Enter the number 4\n",
      "enter the number 500\n"
     ]
    }
   ],
   "source": [
    "#armstrong number\n",
    "num=int(input(\"Enter the number\"))\n",
    "n=int(input(\"enter the number\"))\n",
    "num=i\n",
    "temp=num\n",
    "result=0\n",
    "lenght=len(str(temp))\n",
    "while(temp>0):\n",
    "    lastdigit=temp%10\n",
    "    result=result+lastdigit**lenght\n",
    "    temp=temp//10\n",
    "if(result==num):\n",
    "    print(num)\n",
    "    num+=1"
   ]
  },
  {
   "cell_type": "code",
   "execution_count": 1,
   "id": "b3f60417-b6a2-48a2-beb2-c1e4a7327442",
   "metadata": {},
   "outputs": [
    {
     "name": "stdout",
     "output_type": "stream",
     "text": [
      "1\n",
      "2\n",
      "3\n",
      "4\n",
      "5\n",
      "6\n",
      "7\n",
      "8\n",
      "9\n",
      "10\n",
      "11\n",
      "12\n",
      "13\n",
      "14\n",
      "15\n",
      "16\n",
      "17\n",
      "18\n",
      "19\n",
      "20\n",
      "21\n",
      "22\n",
      "23\n",
      "24\n",
      "25\n",
      "26\n",
      "27\n",
      "28\n",
      "29\n",
      "30\n",
      "31\n",
      "32\n",
      "33\n",
      "34\n",
      "35\n",
      "36\n",
      "37\n",
      "38\n",
      "39\n",
      "40\n",
      "41\n",
      "42\n",
      "43\n",
      "44\n",
      "45\n",
      "46\n",
      "47\n",
      "48\n",
      "49\n"
     ]
    }
   ],
   "source": [
    "for i in range(1,50):\n",
    "    print(i)\n",
    "    i+=1"
   ]
  },
  {
   "cell_type": "code",
   "execution_count": 5,
   "id": "fe5452e9-900b-4ddd-8f27-8b7dbfa2a8ff",
   "metadata": {},
   "outputs": [
    {
     "name": "stdout",
     "output_type": "stream",
     "text": [
      "1\n",
      "2\n",
      "3\n",
      "4\n",
      "5\n",
      "6\n",
      "7\n",
      "8\n",
      "9\n",
      "10\n",
      "11\n",
      "12\n",
      "13\n",
      "14\n",
      "15\n",
      "16\n",
      "17\n",
      "18\n",
      "19\n",
      "20\n",
      "21\n",
      "22\n",
      "23\n",
      "24\n",
      "25\n",
      "26\n",
      "27\n",
      "28\n",
      "29\n",
      "30\n",
      "31\n",
      "32\n",
      "33\n",
      "34\n",
      "35\n",
      "36\n",
      "37\n",
      "38\n",
      "39\n",
      "40\n",
      "41\n",
      "42\n",
      "43\n",
      "44\n",
      "45\n",
      "46\n",
      "47\n",
      "48\n",
      "49\n",
      "50\n",
      "51\n",
      "52\n",
      "53\n",
      "54\n",
      "55\n",
      "56\n",
      "57\n",
      "58\n",
      "59\n",
      "60\n",
      "61\n",
      "62\n",
      "63\n",
      "64\n",
      "65\n",
      "66\n",
      "67\n",
      "68\n",
      "69\n",
      "70\n",
      "71\n",
      "72\n",
      "73\n",
      "74\n",
      "75\n",
      "76\n",
      "77\n",
      "78\n",
      "79\n",
      "80\n",
      "81\n",
      "82\n",
      "83\n",
      "84\n",
      "85\n",
      "86\n",
      "87\n",
      "88\n",
      "89\n"
     ]
    }
   ],
   "source": [
    "for i in range(1,90):\n",
    "    print(i)\n",
    "    i-=100"
   ]
  },
  {
   "cell_type": "code",
   "execution_count": 11,
   "id": "04da075d-f17f-4573-b9e6-2ca49df89464",
   "metadata": {},
   "outputs": [
    {
     "name": "stdin",
     "output_type": "stream",
     "text": [
      "Enter the number 123321\n"
     ]
    },
    {
     "name": "stdout",
     "output_type": "stream",
     "text": [
      "reverse number 123321\n",
      "original number 123321\n",
      "number is pallindrome\n"
     ]
    }
   ],
   "source": [
    "num=int(input(\"Enter the number\"))\n",
    "rev=0\n",
    "org=num\n",
    "while(num>0):\n",
    "    lastdigit=num%10\n",
    "    rev=rev*10+lastdigit\n",
    "    num=num//10\n",
    "print(\"reverse number\",rev)\n",
    "print(\"original number\",org)\n",
    "if(org==rev):\n",
    "    print(\"number is pallindrome\")\n",
    "else:\n",
    "    print(\"number is not pallindrome\")"
   ]
  },
  {
   "cell_type": "code",
   "execution_count": 12,
   "id": "31ce2dab-e52f-4d85-9b21-b7e14ba316b0",
   "metadata": {},
   "outputs": [
    {
     "name": "stdin",
     "output_type": "stream",
     "text": [
      "enter a word aman mishra aashish mishra\n"
     ]
    },
    {
     "name": "stdout",
     "output_type": "stream",
     "text": [
      "('a', 6)\n",
      "('m', 3)\n",
      "('n', 1)\n",
      "(' ', 3)\n",
      "('i', 3)\n",
      "('s', 4)\n",
      "('h', 4)\n",
      "('r', 2)\n"
     ]
    }
   ],
   "source": [
    "a=input(\"enter a word\")\n",
    "dic={}\n",
    "for i in a:\n",
    "    dic[i]=a.count(i)\n",
    "for i in dic.items():\n",
    "        print(i)"
   ]
  },
  {
   "cell_type": "code",
   "execution_count": 20,
   "id": "640e6093-7032-463b-b596-108e10731ed2",
   "metadata": {},
   "outputs": [],
   "source": [
    "c=(\"amanmhsjhjgukguvjvhvhm\")"
   ]
  },
  {
   "cell_type": "code",
   "execution_count": 21,
   "id": "7fc698f1-2d0b-4810-b7e3-9df68ac8f5dd",
   "metadata": {},
   "outputs": [
    {
     "name": "stdout",
     "output_type": "stream",
     "text": [
      "a 2\n",
      "m 3\n",
      "a 2\n",
      "n 1\n",
      "m 3\n",
      "h 4\n",
      "s 1\n",
      "j 3\n",
      "h 4\n",
      "j 3\n",
      "g 2\n",
      "u 2\n",
      "k 1\n",
      "g 2\n",
      "u 2\n",
      "v 3\n",
      "j 3\n",
      "v 3\n",
      "h 4\n",
      "v 3\n",
      "h 4\n",
      "m 3\n"
     ]
    }
   ],
   "source": [
    "for i in c:\n",
    "    print(i,c.count(i))"
   ]
  },
  {
   "cell_type": "code",
   "execution_count": 7,
   "id": "587934f5-6318-4edc-bcac-c3e8f61a552a",
   "metadata": {},
   "outputs": [
    {
     "name": "stdin",
     "output_type": "stream",
     "text": [
      "Enter the number 456\n"
     ]
    },
    {
     "name": "stdout",
     "output_type": "stream",
     "text": [
      "number is non armstrong\n"
     ]
    }
   ],
   "source": [
    "#armstrong numbers in python\n",
    "num=int(input(\"Enter the number\"))\n",
    "result=0\n",
    "length=len(str(num))\n",
    "temp=num\n",
    "while(temp>0):\n",
    "    lastdigit=temp%10\n",
    "    result=result+lastdigit**length\n",
    "    temp=temp//10\n",
    "if(result==num):\n",
    "    print(\"digit is armstrong\")\n",
    "else:\n",
    "    print(\"number is non armstrong\")"
   ]
  },
  {
   "cell_type": "code",
   "execution_count": 3,
   "id": "a34c71aa-c59c-48b2-84fc-3f6cb313d4d9",
   "metadata": {},
   "outputs": [
    {
     "name": "stdin",
     "output_type": "stream",
     "text": [
      "enter the number 111111111\n"
     ]
    },
    {
     "name": "stdout",
     "output_type": "stream",
     "text": [
      "Enter the number 111111111\n",
      "original numbers 111111111\n",
      "Number is pallindrome\n"
     ]
    }
   ],
   "source": [
    "#reverse number\n",
    "num=int(input(\"enter the number\"))\n",
    "rev=0\n",
    "org=num\n",
    "while(num>0):\n",
    "    lastdigit=num%10\n",
    "    rev=rev*10+lastdigit\n",
    "    num=num//10\n",
    "print(\"Enter the number\",rev)\n",
    "print(\"original numbers\",org)\n",
    "if(rev==org):\n",
    "    print(\"Number is pallindrome\")\n",
    "else:\n",
    "    print(\"Number is non pallindrome\")"
   ]
  },
  {
   "cell_type": "code",
   "execution_count": 8,
   "id": "a52fae82-c596-4f23-bb1e-ee09571bf1b8",
   "metadata": {},
   "outputs": [
    {
     "name": "stdin",
     "output_type": "stream",
     "text": [
      "Enter the number 8\n"
     ]
    },
    {
     "name": "stdout",
     "output_type": "stream",
     "text": [
      "number is non prime\n"
     ]
    }
   ],
   "source": [
    "#prime numbers\n",
    "num=int(input(\"Enter the number\"))\n",
    "for i in range(2,num):\n",
    "    if(num%i)==0:\n",
    "        print(\"number is non prime\")\n",
    "        break\n",
    "else:\n",
    "    print(\"number is prime\")"
   ]
  },
  {
   "cell_type": "code",
   "execution_count": 4,
   "id": "58993bef-adff-4dcf-837d-5535460152bf",
   "metadata": {},
   "outputs": [
    {
     "name": "stdin",
     "output_type": "stream",
     "text": [
      "Enter a numbeer 4\n",
      "Enter a number 40\n"
     ]
    },
    {
     "name": "stdout",
     "output_type": "stream",
     "text": [
      "5\n",
      "7\n",
      "11\n",
      "13\n",
      "17\n",
      "19\n",
      "23\n",
      "29\n",
      "31\n",
      "37\n"
     ]
    }
   ],
   "source": [
    "#prime number series\n",
    "i=int(input(\"Enter a numbeer\"))\n",
    "j=int(input(\"Enter a number\"))\n",
    "for a in range(i,j+1):\n",
    "    for b in range(2,a):\n",
    "        if(a%b)==0:\n",
    "            break\n",
    "    else:\n",
    "        print(a)"
   ]
  },
  {
   "cell_type": "code",
   "execution_count": 5,
   "id": "7bdfcc88-4c09-4246-a4bf-4dbbc6dbbf50",
   "metadata": {},
   "outputs": [
    {
     "name": "stdin",
     "output_type": "stream",
     "text": [
      "Enter a number 4\n",
      "Enter a number 400\n"
     ]
    },
    {
     "name": "stdout",
     "output_type": "stream",
     "text": [
      "5\n",
      "7\n",
      "11\n",
      "13\n",
      "17\n",
      "19\n",
      "23\n",
      "29\n",
      "31\n",
      "37\n",
      "41\n",
      "43\n",
      "47\n",
      "53\n",
      "59\n",
      "61\n",
      "67\n",
      "71\n",
      "73\n",
      "79\n",
      "83\n",
      "89\n",
      "97\n",
      "101\n",
      "103\n",
      "107\n",
      "109\n",
      "113\n",
      "127\n",
      "131\n",
      "137\n",
      "139\n",
      "149\n",
      "151\n",
      "157\n",
      "163\n",
      "167\n",
      "173\n",
      "179\n",
      "181\n",
      "191\n",
      "193\n",
      "197\n",
      "199\n",
      "211\n",
      "223\n",
      "227\n",
      "229\n",
      "233\n",
      "239\n",
      "241\n",
      "251\n",
      "257\n",
      "263\n",
      "269\n",
      "271\n",
      "277\n",
      "281\n",
      "283\n",
      "293\n",
      "307\n",
      "311\n",
      "313\n",
      "317\n",
      "331\n",
      "337\n",
      "347\n",
      "349\n",
      "353\n",
      "359\n",
      "367\n",
      "373\n",
      "379\n",
      "383\n",
      "389\n",
      "397\n"
     ]
    }
   ],
   "source": [
    "start=int(input(\"Enter a number\"))\n",
    "end=int(input(\"Enter a number\"))\n",
    "for i in range(start,end+1):\n",
    "    for j in range(2,i):\n",
    "        if (i%j)==0:\n",
    "            break\n",
    "    else:\n",
    "        print(i)"
   ]
  },
  {
   "cell_type": "code",
   "execution_count": 3,
   "id": "1df58bdf-d285-4e2b-8ba5-6668017c12ec",
   "metadata": {},
   "outputs": [
    {
     "name": "stdin",
     "output_type": "stream",
     "text": [
      "Enter the number 4\n"
     ]
    },
    {
     "name": "stdout",
     "output_type": "stream",
     "text": [
      "4 * 1 = 4\n",
      "4 * 2 = 8\n",
      "4 * 3 = 12\n",
      "4 * 4 = 16\n",
      "4 * 5 = 20\n",
      "4 * 6 = 24\n",
      "4 * 7 = 28\n",
      "4 * 8 = 32\n",
      "4 * 9 = 36\n",
      "4 * 10 = 40\n"
     ]
    }
   ],
   "source": [
    "a=int(input(\"Enter the number\"))\n",
    "b=1\n",
    "while(b<=10):\n",
    "    print(a,\"*\",b,\"=\",a*b)\n",
    "    b+=1"
   ]
  },
  {
   "cell_type": "code",
   "execution_count": 4,
   "id": "3c548dae-8252-4bb1-b82e-5e8224f993be",
   "metadata": {},
   "outputs": [
    {
     "name": "stdin",
     "output_type": "stream",
     "text": [
      "enter a number 10\n",
      "enter a number 20\n",
      "Enter a number 30\n"
     ]
    }
   ],
   "source": [
    "a=int(input(\"enter a number\"))\n",
    "b=int(input(\"enter a number\"))\n",
    "c=int(input(\"Enter a number\"))"
   ]
  },
  {
   "cell_type": "code",
   "execution_count": 5,
   "id": "cc77e4df-c303-46f2-b069-1ca076ec38c5",
   "metadata": {},
   "outputs": [
    {
     "data": {
      "text/plain": [
       "(10, 20, 30)"
      ]
     },
     "execution_count": 5,
     "metadata": {},
     "output_type": "execute_result"
    }
   ],
   "source": [
    "(a),(b),(c)"
   ]
  },
  {
   "cell_type": "code",
   "execution_count": 7,
   "id": "1e419129-01c5-4e8b-82e6-2b41bd028b92",
   "metadata": {},
   "outputs": [
    {
     "name": "stdout",
     "output_type": "stream",
     "text": [
      "greatest number is 30\n"
     ]
    }
   ],
   "source": [
    "if (a>b) and (a>c):\n",
    "    print(\"Greatest value is \",a)\n",
    "elif (b>a) and (b>c):\n",
    "    print(\"Greatest number is\",b)\n",
    "else:\n",
    "    print(\"greatest number is\",c)"
   ]
  },
  {
   "cell_type": "code",
   "execution_count": 9,
   "id": "d7db3c0f-ad22-4220-9afc-c94bf2c0e49a",
   "metadata": {},
   "outputs": [
    {
     "name": "stdin",
     "output_type": "stream",
     "text": [
      "enter a number 45\n"
     ]
    }
   ],
   "source": [
    "a=int(input(\"enter a number\"))"
   ]
  },
  {
   "cell_type": "code",
   "execution_count": 14,
   "id": "3a3e53e0-ada7-4afa-8733-2d75117b24e4",
   "metadata": {},
   "outputs": [
    {
     "name": "stdin",
     "output_type": "stream",
     "text": [
      "enter a number 45\n"
     ]
    },
    {
     "name": "stdout",
     "output_type": "stream",
     "text": [
      "Odd\n"
     ]
    }
   ],
   "source": [
    "a=int(input(\"enter a number\"))\n",
    "c=2\n",
    "if(a%c)==0:\n",
    "    print(\"Even\")\n",
    "else:\n",
    "    print(\"Odd\")"
   ]
  },
  {
   "cell_type": "code",
   "execution_count": 15,
   "id": "95af0a4f-ab4f-4ac7-aa82-985f100ca188",
   "metadata": {},
   "outputs": [],
   "source": [
    "#10 min break"
   ]
  },
  {
   "cell_type": "code",
   "execution_count": 16,
   "id": "fe471509-4d7c-4f0a-a53d-b01e84f76626",
   "metadata": {},
   "outputs": [
    {
     "name": "stdin",
     "output_type": "stream",
     "text": [
      "Enter a number 4\n",
      "Enter a number 5\n"
     ]
    }
   ],
   "source": [
    "#armstrong number\n",
    "j=int(input(\"Enter a number\"))\n",
    "i=int(input(\"Enter a numbeer\"))\n",
    "while j > i:\n",
    "    num=j\n",
    "    temp=j\n",
    "    result=0\n",
    "    lenght=len(str(num))\n",
    "    while(temp<0):\n",
    "        lastdigit=temp%10\n",
    "        result=result+lastdigit**lenght\n",
    "        temp=temp//10\n",
    "    if(result==temp):\n",
    "        print(num)\n",
    "    j+=1\n",
    "    "
   ]
  },
  {
   "cell_type": "code",
   "execution_count": 3,
   "id": "fc8fa374-2eb4-4a64-8508-68943302a519",
   "metadata": {},
   "outputs": [
    {
     "name": "stdin",
     "output_type": "stream",
     "text": [
      "Enter a number 4\n",
      "Enter a numbeer 500\n"
     ]
    }
   ],
   "source": [
    "#armstrong number\n",
    "j=int(input(\"Enter a number\"))\n",
    "i=int(input(\"Enter a numbeer\"))\n",
    "while j > i:\n",
    "    num=j\n",
    "    temp=num\n",
    "    result=0\n",
    "    lenght=len(str(temp))\n",
    "    while(temp>0):\n",
    "        lastdigit=temp%10\n",
    "        result=result+lastdigit**lenght\n",
    "        temp=temp//10\n",
    "    if(result==temp):\n",
    "        print(num)\n",
    "    j+=1\n",
    "    "
   ]
  },
  {
   "cell_type": "code",
   "execution_count": 1,
   "id": "fb7d7632-2804-4d35-a86e-e4b2388a5337",
   "metadata": {},
   "outputs": [
    {
     "name": "stdin",
     "output_type": "stream",
     "text": [
      "Enter the number 2\n",
      "emter the number 800\n"
     ]
    },
    {
     "name": "stdout",
     "output_type": "stream",
     "text": [
      "2\n",
      "3\n",
      "4\n",
      "5\n",
      "6\n",
      "7\n",
      "8\n",
      "9\n",
      "153\n",
      "370\n",
      "371\n",
      "407\n"
     ]
    }
   ],
   "source": [
    "i=int(input(\"Enter the number\"))\n",
    "j=int(input(\"emter the number\"))\n",
    "while i<j:\n",
    "    num=i\n",
    "    temp=num\n",
    "    result=0\n",
    "    lengh=len(str(temp))\n",
    "    while(temp>0):\n",
    "        lastdigit=temp%10\n",
    "        result=result+lastdigit**lengh\n",
    "        temp=temp//10\n",
    "    if(result==num):\n",
    "        print(num)\n",
    "    i+=1"
   ]
  },
  {
   "cell_type": "code",
   "execution_count": 1,
   "id": "e59bb6ed-5909-4e54-8933-6c30a2178992",
   "metadata": {},
   "outputs": [
    {
     "name": "stdout",
     "output_type": "stream",
     "text": [
      "10\n",
      "9\n",
      "8\n",
      "7\n",
      "6\n",
      "5\n",
      "4\n",
      "3\n",
      "2\n",
      "1\n",
      "0\n"
     ]
    }
   ],
   "source": [
    "i=10\n",
    "while(i>=0):\n",
    "    print(i)\n",
    "    i-=1"
   ]
  },
  {
   "cell_type": "code",
   "execution_count": 5,
   "id": "b7059591-e322-46d7-8d7e-172553e3c85c",
   "metadata": {},
   "outputs": [
    {
     "name": "stdout",
     "output_type": "stream",
     "text": [
      "10\n",
      "9\n",
      "8\n",
      "7\n",
      "6\n",
      "5\n",
      "4\n",
      "3\n",
      "2\n",
      "1\n",
      "0\n"
     ]
    }
   ],
   "source": [
    "i=10\n",
    "while(i>=0):\n",
    "    print(i)\n",
    "    i-=1"
   ]
  },
  {
   "cell_type": "code",
   "execution_count": 1,
   "id": "929301ba-8aa3-4170-88a7-429241ae9faf",
   "metadata": {},
   "outputs": [
    {
     "name": "stdin",
     "output_type": "stream",
     "text": [
      "Enter the number 5\n"
     ]
    },
    {
     "name": "stdout",
     "output_type": "stream",
     "text": [
      "5 * 1 = 5\n",
      "5 * 2 = 10\n",
      "5 * 3 = 15\n",
      "5 * 4 = 20\n",
      "5 * 5 = 25\n",
      "5 * 6 = 30\n",
      "5 * 7 = 35\n",
      "5 * 8 = 40\n",
      "5 * 9 = 45\n",
      "5 * 10 = 50\n"
     ]
    }
   ],
   "source": [
    "num=int(input(\"Enter the number\"))\n",
    "b=1\n",
    "while(b<=10):\n",
    "    print(num,\"*\",b,\"=\",num*b)\n",
    "    b+=1"
   ]
  },
  {
   "cell_type": "code",
   "execution_count": 3,
   "id": "192b160d-f7cf-4626-8a97-e9e7d1cb3fb2",
   "metadata": {},
   "outputs": [
    {
     "name": "stdin",
     "output_type": "stream",
     "text": [
      "Enter a number 4563121432\n"
     ]
    },
    {
     "name": "stdout",
     "output_type": "stream",
     "text": [
      "reverse number 2341213654\n",
      "original number 4563121432\n",
      "non pallindrome\n"
     ]
    }
   ],
   "source": [
    "num=int(input(\"Enter a number\"))\n",
    "rev=0\n",
    "org=num\n",
    "while(num>0):\n",
    "    lastdigit=num%10\n",
    "    rev=rev*10+lastdigit\n",
    "    num=num//10\n",
    "print(\"reverse number\",rev)\n",
    "print(\"original number\",org)\n",
    "if(org==num):\n",
    "    print(\"pallindrome\")\n",
    "else:\n",
    "    print(\"non pallindrome\")"
   ]
  },
  {
   "cell_type": "code",
   "execution_count": 5,
   "id": "a491ea20-3cdb-4464-a0d0-051641a832fa",
   "metadata": {},
   "outputs": [
    {
     "name": "stdin",
     "output_type": "stream",
     "text": [
      "Enter the number 5\n"
     ]
    },
    {
     "name": "stdout",
     "output_type": "stream",
     "text": [
      "prime\n"
     ]
    }
   ],
   "source": [
    "num=int(input(\"Enter the number\"))\n",
    "for i in range(2,num):\n",
    "    if(num%i)==0:\n",
    "        print(\"not prime\")\n",
    "        break\n",
    "else:\n",
    "    print(\"prime\")"
   ]
  },
  {
   "cell_type": "code",
   "execution_count": 10,
   "id": "23b04832-8957-4fcd-94a4-5bfe7daf2ff7",
   "metadata": {},
   "outputs": [
    {
     "name": "stdin",
     "output_type": "stream",
     "text": [
      "Enter the number 2\n",
      "Enter the number 99\n"
     ]
    },
    {
     "name": "stdout",
     "output_type": "stream",
     "text": [
      "2\n",
      "3\n",
      "5\n",
      "7\n",
      "11\n",
      "13\n",
      "17\n",
      "19\n",
      "23\n",
      "29\n",
      "31\n",
      "37\n",
      "41\n",
      "43\n",
      "47\n",
      "53\n",
      "59\n",
      "61\n",
      "67\n",
      "71\n",
      "73\n",
      "79\n",
      "83\n",
      "89\n",
      "97\n"
     ]
    }
   ],
   "source": [
    "start=int(input(\"Enter the number\"))\n",
    "end=int(input(\"Enter the number\"))\n",
    "for i in range(start,end+1):\n",
    "    for n in range(2,i):\n",
    "        if(i%n)==0:\n",
    "            break\n",
    "    else:\n",
    "        print(i)"
   ]
  },
  {
   "cell_type": "code",
   "execution_count": 13,
   "id": "03664b04-35b8-4b12-a121-5eb26f4fff96",
   "metadata": {},
   "outputs": [],
   "source": [
    " class aj:\n",
    "    a=147852\n",
    "    name=\"aman\"\n",
    "    def outname(self):\n",
    "        name=self.name\n",
    "        x=self.x\n",
    "        print(name,x)\n",
    "                    "
   ]
  },
  {
   "cell_type": "code",
   "execution_count": 14,
   "id": "7ac334ec-e77f-48dc-bd42-0ef3b8071822",
   "metadata": {},
   "outputs": [],
   "source": [
    "a=aj()"
   ]
  },
  {
   "cell_type": "code",
   "execution_count": 16,
   "id": "bb5d9f63-7cff-49b8-b3c7-270bf39a4570",
   "metadata": {},
   "outputs": [
    {
     "ename": "AttributeError",
     "evalue": "'function' object has no attribute 'name'",
     "output_type": "error",
     "traceback": [
      "\u001b[1;31m---------------------------------------------------------------------------\u001b[0m",
      "\u001b[1;31mAttributeError\u001b[0m                            Traceback (most recent call last)",
      "Cell \u001b[1;32mIn[16], line 1\u001b[0m\n\u001b[1;32m----> 1\u001b[0m \u001b[43maj\u001b[49m\u001b[38;5;241;43m.\u001b[39;49m\u001b[43moutname\u001b[49m\u001b[43m(\u001b[49m\u001b[43mname\u001b[49m\u001b[43m)\u001b[49m\n",
      "Cell \u001b[1;32mIn[13], line 5\u001b[0m, in \u001b[0;36maj.outname\u001b[1;34m(self)\u001b[0m\n\u001b[0;32m      4\u001b[0m \u001b[38;5;28;01mdef\u001b[39;00m \u001b[38;5;21moutname\u001b[39m(\u001b[38;5;28mself\u001b[39m):\n\u001b[1;32m----> 5\u001b[0m     name\u001b[38;5;241m=\u001b[39m\u001b[38;5;28;43mself\u001b[39;49m\u001b[38;5;241;43m.\u001b[39;49m\u001b[43mname\u001b[49m\n\u001b[0;32m      6\u001b[0m     x\u001b[38;5;241m=\u001b[39m\u001b[38;5;28mself\u001b[39m\u001b[38;5;241m.\u001b[39mx\n\u001b[0;32m      7\u001b[0m     \u001b[38;5;28mprint\u001b[39m(name,x)\n",
      "\u001b[1;31mAttributeError\u001b[0m: 'function' object has no attribute 'name'"
     ]
    }
   ],
   "source": [
    "aj.outname(name)"
   ]
  },
  {
   "cell_type": "code",
   "execution_count": 24,
   "id": "db2f6298-c5e9-4c67-bd57-aaed996f45d7",
   "metadata": {},
   "outputs": [],
   "source": [
    "class human:\n",
    "    def legs(self):\n",
    "        z=4\n",
    "        print(z)\n",
    "    def species(self):\n",
    "        x=\"female\"\n",
    "    def count(self):\n",
    "        y=1000\n",
    "    "
   ]
  },
  {
   "cell_type": "code",
   "execution_count": 25,
   "id": "a495c969-98d5-4682-bade-03dd095288ea",
   "metadata": {},
   "outputs": [],
   "source": [
    "a=human()"
   ]
  },
  {
   "cell_type": "code",
   "execution_count": 26,
   "id": "7c73f0af-22cd-4b65-a63c-5daeb09f8d95",
   "metadata": {},
   "outputs": [],
   "source": [
    "x=a.species()"
   ]
  },
  {
   "cell_type": "code",
   "execution_count": 27,
   "id": "9f2c2a71-08d6-4563-9db4-682c4bf973f8",
   "metadata": {},
   "outputs": [
    {
     "name": "stdin",
     "output_type": "stream",
     "text": [
      "Enter the number 4\n",
      "Enter the number 99\n"
     ]
    },
    {
     "name": "stdout",
     "output_type": "stream",
     "text": [
      "5\n",
      "7\n",
      "11\n",
      "13\n",
      "17\n",
      "19\n",
      "23\n",
      "29\n",
      "31\n",
      "37\n",
      "41\n",
      "43\n",
      "47\n",
      "53\n",
      "59\n",
      "61\n",
      "67\n",
      "71\n",
      "73\n",
      "79\n",
      "83\n",
      "89\n",
      "97\n"
     ]
    }
   ],
   "source": [
    "start=int(input(\"Enter the number\"))\n",
    "end=int(input(\"Enter the number\"))\n",
    "for i in range(start,end+1):\n",
    "    for n in range(2,i):\n",
    "        if(i%n)==0:\n",
    "            break\n",
    "    else:\n",
    "        print(i)"
   ]
  },
  {
   "cell_type": "code",
   "execution_count": 1,
   "id": "b8e189ca-5eaa-48a8-a79c-150530eeac7e",
   "metadata": {},
   "outputs": [
    {
     "name": "stdin",
     "output_type": "stream",
     "text": [
      "Enter the number \n"
     ]
    },
    {
     "ename": "ValueError",
     "evalue": "invalid literal for int() with base 10: ''",
     "output_type": "error",
     "traceback": [
      "\u001b[1;31m---------------------------------------------------------------------------\u001b[0m",
      "\u001b[1;31mValueError\u001b[0m                                Traceback (most recent call last)",
      "Cell \u001b[1;32mIn[1], line 1\u001b[0m\n\u001b[1;32m----> 1\u001b[0m i\u001b[38;5;241m=\u001b[39m\u001b[38;5;28;43mint\u001b[39;49m\u001b[43m(\u001b[49m\u001b[38;5;28;43minput\u001b[39;49m\u001b[43m(\u001b[49m\u001b[38;5;124;43m\"\u001b[39;49m\u001b[38;5;124;43mEnter the number\u001b[39;49m\u001b[38;5;124;43m\"\u001b[39;49m\u001b[43m)\u001b[49m\u001b[43m)\u001b[49m\n\u001b[0;32m      2\u001b[0m j\u001b[38;5;241m=\u001b[39m\u001b[38;5;28mint\u001b[39m(\u001b[38;5;28minput\u001b[39m(\u001b[38;5;124m\"\u001b[39m\u001b[38;5;124memter the number\u001b[39m\u001b[38;5;124m\"\u001b[39m))\n\u001b[0;32m      3\u001b[0m \u001b[38;5;28;01mwhile\u001b[39;00m i\u001b[38;5;241m<\u001b[39mj:\n",
      "\u001b[1;31mValueError\u001b[0m: invalid literal for int() with base 10: ''"
     ]
    }
   ],
   "source": [
    "i=int(input(\"Enter the number\"))\n",
    "j=int(input(\"emter the number\"))\n",
    "while i<j):\n",
    "    num=i\n",
    "    temp=num\n",
    "    result=0\n",
    "    lengh=len(str(temp))\n",
    "    while(temp>0):\n",
    "        lastdigit=temp%10\n",
    "        result=result+lastdigit**lengh\n",
    "        temp=temp//10\n",
    "    if(result==num):\n",
    "        print(num)\n",
    "    i+=1"
   ]
  },
  {
   "cell_type": "code",
   "execution_count": 3,
   "id": "05bd6524-de66-43ed-885e-2e76b72af677",
   "metadata": {},
   "outputs": [
    {
     "name": "stdin",
     "output_type": "stream",
     "text": [
      "Enter a number 153\n"
     ]
    },
    {
     "name": "stdout",
     "output_type": "stream",
     "text": [
      "armstrong\n"
     ]
    }
   ],
   "source": [
    "num=int(input(\"Enter a number\"))\n",
    "result=0\n",
    "temp=num\n",
    "lenght=len(str(temp))\n",
    "while(temp>0):\n",
    "    lastdigit=temp%10\n",
    "    result=result+lastdigit**lenght\n",
    "    temp=temp//10\n",
    "if(num==result):\n",
    "    print(\"armstrong\")\n",
    "else:\n",
    "    print(\"not armstrong\")"
   ]
  },
  {
   "cell_type": "code",
   "execution_count": 4,
   "id": "0276646b-f071-45c4-a88b-d72ded7f05ee",
   "metadata": {},
   "outputs": [
    {
     "name": "stdin",
     "output_type": "stream",
     "text": [
      "Enter a number 456321\n"
     ]
    },
    {
     "name": "stdout",
     "output_type": "stream",
     "text": [
      "reverse number 123654\n",
      "original number 456321\n",
      "non pallindrome\n"
     ]
    }
   ],
   "source": [
    "num=int(input(\"Enter a number\"))\n",
    "rev=0\n",
    "org=num\n",
    "while(num>0):\n",
    "    lastdigit=num%10\n",
    "    rev=rev*10+lastdigit\n",
    "    num=num//10\n",
    "print(\"reverse number\",rev)\n",
    "print(\"original number\",org)\n",
    "if(org==rev):\n",
    "    print(\"paliindrome number\")\n",
    "else:\n",
    "    print(\"non pallindrome\")"
   ]
  },
  {
   "cell_type": "code",
   "execution_count": 3,
   "id": "85653fd9-260b-4c52-bcdb-0135c37940bb",
   "metadata": {},
   "outputs": [
    {
     "name": "stdin",
     "output_type": "stream",
     "text": [
      "Enter a number 5\n"
     ]
    },
    {
     "name": "stdout",
     "output_type": "stream",
     "text": [
      "5 * 1 = 5\n",
      "5 * 2 = 10\n",
      "5 * 3 = 15\n",
      "5 * 4 = 20\n",
      "5 * 5 = 25\n",
      "5 * 6 = 30\n",
      "5 * 7 = 35\n",
      "5 * 8 = 40\n",
      "5 * 9 = 45\n",
      "5 * 10 = 50\n"
     ]
    }
   ],
   "source": [
    "num=int(input(\"Enter a number\"))\n",
    "b=1\n",
    "while(b<=10):\n",
    "    print(num,\"*\",b,\"=\",num*b)\n",
    "    b+=1"
   ]
  },
  {
   "cell_type": "code",
   "execution_count": 8,
   "id": "bc8be36e-4daa-4f13-84c8-67c784291e42",
   "metadata": {},
   "outputs": [
    {
     "name": "stdin",
     "output_type": "stream",
     "text": [
      "Enter a number 153\n"
     ]
    },
    {
     "name": "stdout",
     "output_type": "stream",
     "text": [
      "armstrong number\n"
     ]
    }
   ],
   "source": [
    "num=int(input(\"Enter a number\"))\n",
    "result=0\n",
    "temp=num\n",
    "length=len(str(temp))\n",
    "while(temp>0):\n",
    "    lastdigit=temp%10\n",
    "    result=result+lastdigit**length\n",
    "    temp=temp//10\n",
    "if(num==result):\n",
    "    print(\"armstrong number\")\n",
    "else:\n",
    "    print(\"not armstrong\")"
   ]
  },
  {
   "cell_type": "code",
   "execution_count": 3,
   "id": "67121a43-bc35-4d84-8908-c0bf4d6c058c",
   "metadata": {},
   "outputs": [
    {
     "name": "stdin",
     "output_type": "stream",
     "text": [
      "Enter a number 4\n",
      "Enter a number 741\n"
     ]
    },
    {
     "name": "stdout",
     "output_type": "stream",
     "text": [
      "4\n",
      "5\n",
      "6\n",
      "7\n",
      "8\n",
      "9\n",
      "36\n",
      "370\n"
     ]
    }
   ],
   "source": [
    "i=int(input(\"Enter a number\"))\n",
    "j=int(input(\"Enter a number\"))\n",
    "while i<j:\n",
    "    num=i\n",
    "    temp=num\n",
    "    result=0\n",
    "    length=len(str(temp))\n",
    "    while(temp>0):\n",
    "        lastdigit=temp%10\n",
    "        result=result+lastdigit**length\n",
    "        temp=temp//10\n",
    "        if(result==num):\n",
    "            print(num)\n",
    "        i+=1\n",
    "\n",
    "\n"
   ]
  },
  {
   "cell_type": "code",
   "execution_count": 2,
   "id": "535c39b5-2b17-446d-aced-d5f56269383b",
   "metadata": {},
   "outputs": [
    {
     "name": "stdin",
     "output_type": "stream",
     "text": [
      "Enter the number 4\n",
      "emter the number 741\n"
     ]
    },
    {
     "name": "stdout",
     "output_type": "stream",
     "text": [
      "4\n",
      "5\n",
      "6\n",
      "7\n",
      "8\n",
      "9\n",
      "153\n",
      "370\n",
      "371\n",
      "407\n"
     ]
    }
   ],
   "source": [
    "i=int(input(\"Enter the number\"))\n",
    "j=int(input(\"emter the number\"))\n",
    "while i<j:\n",
    "    num=i\n",
    "    temp=num\n",
    "    result=0\n",
    "    lengh=len(str(temp))\n",
    "    while(temp>0):\n",
    "        lastdigit=temp%10\n",
    "        result=result+lastdigit**lengh\n",
    "        temp=temp//10\n",
    "    if(result==num):\n",
    "        print(num)\n",
    "    i+=1"
   ]
  },
  {
   "cell_type": "code",
   "execution_count": null,
   "id": "46ccff72-133c-4067-8291-1ecc41dcd6f0",
   "metadata": {},
   "outputs": [
    {
     "name": "stdin",
     "output_type": "stream",
     "text": [
      "Enter a number 4\n",
      "Enter a number 500\n"
     ]
    }
   ],
   "source": [
    "i=int(input(\"Enter a number\"))\n",
    "j=int(input(\"Enter a number\"))\n",
    "while(i<j):\n",
    "    num=1\n",
    "    temp=num\n",
    "    result=0\n",
    "    lenth=len(str(temp))\n",
    "    while(num>0):\n",
    "        lastdigit=temp%10\n",
    "        result=result+lastdigit**lenth\n",
    "        temp=temp//10\n",
    "    if(result==num):\n",
    "        print(num)\n",
    "    i+=1"
   ]
  },
  {
   "cell_type": "code",
   "execution_count": 1,
   "id": "0b3ee93d-25a0-4549-b205-fe99dc2f8677",
   "metadata": {},
   "outputs": [],
   "source": [
    "class jd:\n",
    "    x=123654\n",
    "    name=\"aman\"\n",
    "    def outname(self,names):\n",
    "        name=names\n",
    "        x=self.x\n",
    "        print(name,x)"
   ]
  },
  {
   "cell_type": "code",
   "execution_count": 2,
   "id": "5cc959c5-b214-422a-8b72-c391a8752001",
   "metadata": {},
   "outputs": [],
   "source": [
    "a=jd()"
   ]
  },
  {
   "cell_type": "code",
   "execution_count": 4,
   "id": "731ea75f-cbb3-4bac-aa2a-54b4acf99e5c",
   "metadata": {},
   "outputs": [],
   "source": [
    "name=\"aashish\""
   ]
  },
  {
   "cell_type": "code",
   "execution_count": 5,
   "id": "9dec5378-bc2e-4e2c-9a2e-9fabf93e5ac3",
   "metadata": {},
   "outputs": [
    {
     "name": "stdout",
     "output_type": "stream",
     "text": [
      "<__main__.jd object at 0x0000015401702F00> 123654\n"
     ]
    }
   ],
   "source": [
    "a.outname(a)"
   ]
  },
  {
   "cell_type": "code",
   "execution_count": 6,
   "id": "43f5ba9e-1593-4904-8e04-ee6a522bd25a",
   "metadata": {},
   "outputs": [
    {
     "ename": "NameError",
     "evalue": "name 'x' is not defined",
     "output_type": "error",
     "traceback": [
      "\u001b[1;31m---------------------------------------------------------------------------\u001b[0m",
      "\u001b[1;31mNameError\u001b[0m                                 Traceback (most recent call last)",
      "Cell \u001b[1;32mIn[6], line 1\u001b[0m\n\u001b[1;32m----> 1\u001b[0m \u001b[43mx\u001b[49m\n",
      "\u001b[1;31mNameError\u001b[0m: name 'x' is not defined"
     ]
    }
   ],
   "source": []
  },
  {
   "cell_type": "code",
   "execution_count": 14,
   "id": "0f33060d-adf4-44c5-9fdb-586e0b06e628",
   "metadata": {},
   "outputs": [],
   "source": [
    "class jd:\n",
    "    x=123654\n",
    "    name=\"aman\"\n",
    "    def outname(self,names):\n",
    "        name=names\n",
    "        x=self.x\n",
    "        print(name,x)"
   ]
  },
  {
   "cell_type": "code",
   "execution_count": 15,
   "id": "43eb9db2-5093-4d10-8ede-7884538b857d",
   "metadata": {},
   "outputs": [],
   "source": [
    "class md(jd):\n",
    "    def laptop(self,names):\n",
    "        self.outname(name)"
   ]
  },
  {
   "cell_type": "code",
   "execution_count": 16,
   "id": "a55281f9-ba53-42e8-931e-840cb33c3c06",
   "metadata": {},
   "outputs": [
    {
     "name": "stdout",
     "output_type": "stream",
     "text": [
      "laptop 123654\n"
     ]
    }
   ],
   "source": [
    "lm=md()\n",
    "name=\"laptop\"\n",
    "lm.laptop(name)"
   ]
  },
  {
   "cell_type": "code",
   "execution_count": 24,
   "id": "b454c7f5-ec23-4813-9f05-2d1c5ec2d154",
   "metadata": {},
   "outputs": [],
   "source": [
    "class human:\n",
    "    x=\"\"\n",
    "    y=0\n",
    "    z=0\n",
    "    def legs(self):\n",
    "        z=4\n",
    "        print(z)\n",
    "    def species(self):\n",
    "        x=\"male\"\n",
    "        print(x)\n",
    "    def count(self):\n",
    "        y=12345\n",
    "        print(y)"
   ]
  },
  {
   "cell_type": "code",
   "execution_count": 25,
   "id": "08818fb0-ad4a-4dd0-a121-3c36772a522f",
   "metadata": {},
   "outputs": [],
   "source": [
    "a=human()"
   ]
  },
  {
   "cell_type": "code",
   "execution_count": 27,
   "id": "2c357376-2703-44b3-bb50-bbd43de390b0",
   "metadata": {},
   "outputs": [
    {
     "name": "stdout",
     "output_type": "stream",
     "text": [
      "4\n",
      "male\n",
      "12345\n"
     ]
    }
   ],
   "source": [
    "y=a.legs()\n",
    "z=a.species()\n",
    "x=a.count()"
   ]
  },
  {
   "cell_type": "code",
   "execution_count": 3,
   "id": "8a975930-0b2b-4755-a5ba-6a80e2a68218",
   "metadata": {},
   "outputs": [],
   "source": [
    "class bikes:\n",
    "    x=\"\"\n",
    "    y=00\n",
    "    z=000\n",
    "    a=\"\"\n",
    "    b=00\n",
    "    c=00\n",
    "    def model(self):\n",
    "        car1=\"gixxer\"\n",
    "        a=\"SP125\"\n",
    "        print(car1)\n",
    "        print(a)\n",
    "    def year(self):\n",
    "        z=2024\n",
    "        print(z)\n",
    "    def price(self):\n",
    "        y=165000\n",
    "        print(y)\n",
    "    def model(self):\n",
    "            a=\"SP125\"\n",
    "            print(a)"
   ]
  },
  {
   "cell_type": "code",
   "execution_count": 4,
   "id": "2aa6395a-d317-47dc-acb7-120fad4d31c2",
   "metadata": {},
   "outputs": [],
   "source": [
    "a=bikes()"
   ]
  },
  {
   "cell_type": "code",
   "execution_count": 5,
   "id": "43c51018-da19-44f5-b527-08e6edfdd5c8",
   "metadata": {},
   "outputs": [
    {
     "name": "stdout",
     "output_type": "stream",
     "text": [
      "SP125\n",
      "2024\n",
      "165000\n",
      "SP125\n"
     ]
    }
   ],
   "source": [
    "x=a.model()\n",
    "y=a.year()\n",
    "z=a.price()\n",
    "a=a.model()\n"
   ]
  },
  {
   "cell_type": "code",
   "execution_count": 37,
   "id": "ccbca70d-7e84-4de9-8739-cd32fe9861d9",
   "metadata": {},
   "outputs": [],
   "source": [
    "#bhaiya mai isme multiple bikes add krna chahta hu kaise hoga"
   ]
  },
  {
   "cell_type": "code",
   "execution_count": 38,
   "id": "3e07e2f1-8fc9-463a-ab2a-b1fed950042a",
   "metadata": {},
   "outputs": [],
   "source": [
    "#reverse number"
   ]
  },
  {
   "cell_type": "code",
   "execution_count": 42,
   "id": "a14f6505-3abf-467e-896d-7ac3a308277a",
   "metadata": {},
   "outputs": [
    {
     "name": "stdin",
     "output_type": "stream",
     "text": [
      "Enter the number 45554\n"
     ]
    },
    {
     "name": "stdout",
     "output_type": "stream",
     "text": [
      "REverse number 45554\n",
      "original number 45554\n",
      "Number is pallindrome\n"
     ]
    }
   ],
   "source": [
    "num=int(input(\"Enter the number\"))\n",
    "rev=0\n",
    "org=num\n",
    "while(num>0):\n",
    "    lastdigit=num%10\n",
    "    rev=rev*10+lastdigit\n",
    "    num=num//10\n",
    "print(\"REverse number\",rev)\n",
    "print(\"original number\",org)\n",
    "if(org==rev):\n",
    "    print(\"Number is pallindrome\")\n",
    "else:\n",
    "    print(\"number is non pallindrome\")"
   ]
  },
  {
   "cell_type": "code",
   "execution_count": 48,
   "id": "60f417a7-2136-4d16-bb6a-fc2200aa22f6",
   "metadata": {},
   "outputs": [
    {
     "name": "stdin",
     "output_type": "stream",
     "text": [
      "Enter the number 10\n"
     ]
    },
    {
     "name": "stdout",
     "output_type": "stream",
     "text": [
      "not prime\n"
     ]
    }
   ],
   "source": [
    "#prime number\n",
    "num=int(input(\"Enter the number\"))\n",
    "for i in range(2,num):\n",
    "    if(num%i)==0:\n",
    "        print(\"not prime\")\n",
    "        break\n",
    "else:\n",
    "    print(\"prime\")"
   ]
  },
  {
   "cell_type": "code",
   "execution_count": 49,
   "id": "7f1d8973-244d-4ddf-b95c-f86d299fa390",
   "metadata": {},
   "outputs": [],
   "source": [
    "#prime number series"
   ]
  },
  {
   "cell_type": "code",
   "execution_count": 52,
   "id": "73674089-23b6-499b-a656-68efef5dc114",
   "metadata": {},
   "outputs": [
    {
     "name": "stdin",
     "output_type": "stream",
     "text": [
      "Enter a number 4\n",
      "Enter a number 88\n"
     ]
    },
    {
     "name": "stdout",
     "output_type": "stream",
     "text": [
      "5\n",
      "7\n",
      "11\n",
      "13\n",
      "17\n",
      "19\n",
      "23\n",
      "29\n",
      "31\n",
      "37\n",
      "41\n",
      "43\n",
      "47\n",
      "53\n",
      "59\n",
      "61\n",
      "67\n",
      "71\n",
      "73\n",
      "79\n",
      "83\n"
     ]
    }
   ],
   "source": [
    "i=int(input(\"Enter a number\"))\n",
    "j=int(input(\"Enter a number\"))\n",
    "for a in range(i,j+1):\n",
    "    for b in range(2,a):\n",
    "        if(a%b)==0:\n",
    "            break\n",
    "    else:\n",
    "        print(a)"
   ]
  },
  {
   "cell_type": "code",
   "execution_count": 53,
   "id": "bb9a0d3b-84e2-48f1-b3af-c90c878a6c84",
   "metadata": {},
   "outputs": [],
   "source": [
    "#table"
   ]
  },
  {
   "cell_type": "code",
   "execution_count": 56,
   "id": "f0d8736c-d95c-44f1-804d-e904362565bc",
   "metadata": {},
   "outputs": [
    {
     "name": "stdin",
     "output_type": "stream",
     "text": [
      "Enter table number 78\n"
     ]
    },
    {
     "name": "stdout",
     "output_type": "stream",
     "text": [
      "78 * 1 = 78\n",
      "78 * 2 = 156\n",
      "78 * 3 = 234\n",
      "78 * 4 = 312\n",
      "78 * 5 = 390\n",
      "78 * 6 = 468\n",
      "78 * 7 = 546\n",
      "78 * 8 = 624\n",
      "78 * 9 = 702\n",
      "78 * 10 = 780\n"
     ]
    }
   ],
   "source": [
    "n=int(input(\"Enter table number\"))\n",
    "b=1\n",
    "while(b<=10):\n",
    "    print(n,\"*\",b,\"=\",n*b)\n",
    "    b+=1"
   ]
  },
  {
   "cell_type": "code",
   "execution_count": 66,
   "id": "ca960d49-8933-43ce-9617-700dabe5a5e4",
   "metadata": {},
   "outputs": [],
   "source": [
    "a=(\"Aman\",\"Aashish\",\"Anuj\",\"Adit\",\"Keshav\",\"Anmol\",\"Shivi\",\"Shiva\",\"Aman\")"
   ]
  },
  {
   "cell_type": "code",
   "execution_count": 67,
   "id": "44d90d37-51dd-4ee7-8e04-4b2b5573d86b",
   "metadata": {},
   "outputs": [
    {
     "data": {
      "text/plain": [
       "tuple"
      ]
     },
     "execution_count": 67,
     "metadata": {},
     "output_type": "execute_result"
    }
   ],
   "source": [
    "type(a)"
   ]
  },
  {
   "cell_type": "code",
   "execution_count": 68,
   "id": "b74c8bdc-2aad-42a8-bbf7-57afef5e83ad",
   "metadata": {},
   "outputs": [
    {
     "name": "stdout",
     "output_type": "stream",
     "text": [
      "('Aman', 'Aashish', 'Anuj', 'Adit', 'Keshav', 'Anmol', 'Shivi', 'Shiva', 'Aman')\n"
     ]
    }
   ],
   "source": [
    "print(a)"
   ]
  },
  {
   "cell_type": "code",
   "execution_count": 69,
   "id": "ff83e040-3506-4fad-bbb0-33fa80f58ff3",
   "metadata": {},
   "outputs": [],
   "source": [
    "b=(\"apple\",)"
   ]
  },
  {
   "cell_type": "code",
   "execution_count": 72,
   "id": "663634aa-129c-461c-9ef7-93b537151f7a",
   "metadata": {},
   "outputs": [
    {
     "name": "stdout",
     "output_type": "stream",
     "text": [
      "Shiva\n"
     ]
    }
   ],
   "source": [
    "print(a[-2])"
   ]
  },
  {
   "cell_type": "code",
   "execution_count": 58,
   "id": "ceddac12-0363-4554-8673-245c9ce57788",
   "metadata": {},
   "outputs": [],
   "source": [
    "x=a.count(a)"
   ]
  },
  {
   "cell_type": "code",
   "execution_count": 25,
   "id": "333255d5-dea1-4f9f-9bd3-992c7e3e9d5a",
   "metadata": {},
   "outputs": [],
   "source": [
    "#ye 9 ku aa rha h 0 se ku ni start hua"
   ]
  },
  {
   "cell_type": "code",
   "execution_count": 37,
   "id": "9ca8d217-141c-4149-b010-33fe78c21f2e",
   "metadata": {},
   "outputs": [],
   "source": [
    "tupple1=[\"Apple\",\"Mango\",\"Banana\"]\n",
    "tupple2=(1,2,2,3,4,5,6,)\n",
    "tupple3=(True,False)"
   ]
  },
  {
   "cell_type": "code",
   "execution_count": 38,
   "id": "8a3a4a57-ee5a-4834-960a-c90dba1bf4cf",
   "metadata": {},
   "outputs": [
    {
     "name": "stdout",
     "output_type": "stream",
     "text": [
      "['Apple', 'Mango', 'Banana']\n",
      "(1, 2, 2, 3, 4, 5, 6)\n",
      "(True, False)\n"
     ]
    }
   ],
   "source": [
    "print(tupple1)\n",
    "print(tupple2)\n",
    "print(tupple3)"
   ]
  },
  {
   "cell_type": "code",
   "execution_count": 39,
   "id": "8c65c1e1-a948-4792-a838-6c0ae6b27d21",
   "metadata": {},
   "outputs": [
    {
     "data": {
      "text/plain": [
       "tuple"
      ]
     },
     "execution_count": 39,
     "metadata": {},
     "output_type": "execute_result"
    }
   ],
   "source": [
    "type(tupple2)"
   ]
  },
  {
   "cell_type": "code",
   "execution_count": 73,
   "id": "24e45635-dc9f-48a8-9a63-7d562f6bdd2d",
   "metadata": {},
   "outputs": [
    {
     "name": "stdout",
     "output_type": "stream",
     "text": [
      "('Anuj', 'Adit', 'Keshav', 'Anmol')\n"
     ]
    }
   ],
   "source": [
    "print(a[2:6])"
   ]
  },
  {
   "cell_type": "code",
   "execution_count": 74,
   "id": "ee2690d2-e2af-48c1-8f78-e06a01c8f233",
   "metadata": {},
   "outputs": [
    {
     "name": "stdout",
     "output_type": "stream",
     "text": [
      "('Adit', 'Keshav', 'Anmol', 'Shivi', 'Shiva', 'Aman')\n"
     ]
    }
   ],
   "source": [
    "print(a[3:])"
   ]
  },
  {
   "cell_type": "code",
   "execution_count": 75,
   "id": "a8af6139-dc1a-47e9-bf96-cea47cc2eaf4",
   "metadata": {},
   "outputs": [
    {
     "name": "stdout",
     "output_type": "stream",
     "text": [
      "Yes Aman is son of mishra's\n"
     ]
    }
   ],
   "source": [
    "if \"Aman\" in a:\n",
    "    print(\"Yes Aman is son of mishra's\")"
   ]
  },
  {
   "cell_type": "code",
   "execution_count": 88,
   "id": "f6d0f94e-94eb-43ad-b805-dc15e1a17558",
   "metadata": {},
   "outputs": [],
   "source": [
    "c=tuple((a))\n"
   ]
  },
  {
   "cell_type": "code",
   "execution_count": 89,
   "id": "5cee7e40-0856-4dd1-9b77-c361e557c693",
   "metadata": {},
   "outputs": [
    {
     "name": "stdout",
     "output_type": "stream",
     "text": [
      "['Aman', 'Aashish', 'Anuj', 'Adit', 'Keshav', 'Anmol', 'Shivi', 'Shiva', 'Aman']\n"
     ]
    }
   ],
   "source": [
    "print(a)"
   ]
  },
  {
   "cell_type": "code",
   "execution_count": 90,
   "id": "8d51e868-b944-452a-a446-c4c9d1987850",
   "metadata": {},
   "outputs": [
    {
     "name": "stdout",
     "output_type": "stream",
     "text": [
      "('Aman', 'Aashish', 'Anuj', 'Adit', 'Keshav', 'Anmol', 'Shivi', 'Shiva', 'Aman')\n"
     ]
    }
   ],
   "source": [
    "print(c)"
   ]
  },
  {
   "cell_type": "code",
   "execution_count": 91,
   "id": "2c9179a7-f9fb-432c-b2a6-14ee86495776",
   "metadata": {},
   "outputs": [
    {
     "name": "stdout",
     "output_type": "stream",
     "text": [
      "('apple', 'kiwi', 'cherry')\n"
     ]
    }
   ],
   "source": [
    "x = (\"apple\", \"banana\", \"cherry\")\n",
    "y = list(x)\n",
    "y[1] = \"kiwi\"\n",
    "x = tuple(y)\n",
    "\n",
    "print(x)"
   ]
  },
  {
   "cell_type": "code",
   "execution_count": 92,
   "id": "24d50155-ec44-464b-bc73-139fd0c110ba",
   "metadata": {},
   "outputs": [],
   "source": [
    "a[4]=\"adarsh\"\n",
    "d=tuple(a)"
   ]
  },
  {
   "cell_type": "code",
   "execution_count": 93,
   "id": "e16b1e35-2f9f-414f-8469-72d65edeb26f",
   "metadata": {},
   "outputs": [
    {
     "name": "stdout",
     "output_type": "stream",
     "text": [
      "['Aman', 'Aashish', 'Anuj', 'Adit', 'adarsh', 'Anmol', 'Shivi', 'Shiva', 'Aman']\n"
     ]
    }
   ],
   "source": [
    "print(a)"
   ]
  },
  {
   "cell_type": "code",
   "execution_count": 97,
   "id": "cb6a8ea5-40dc-43ed-b3fd-22b9c698cc38",
   "metadata": {},
   "outputs": [
    {
     "name": "stdout",
     "output_type": "stream",
     "text": [
      "('apple', 'mango', 'banana', 'graphes')\n"
     ]
    }
   ],
   "source": [
    "x=(\"apple\",\"mango\",\"banana\")\n",
    "y=list(x)\n",
    "y.append(\"graphes\")\n",
    "z=tuple(y)\n",
    "print(z)"
   ]
  },
  {
   "cell_type": "code",
   "execution_count": 98,
   "id": "44482b0c-5e9a-42ac-9b6b-bd451cf47f28",
   "metadata": {},
   "outputs": [
    {
     "data": {
      "text/plain": [
       "('apple', 'mango', 'banana')"
      ]
     },
     "execution_count": 98,
     "metadata": {},
     "output_type": "execute_result"
    }
   ],
   "source": [
    "x"
   ]
  },
  {
   "cell_type": "code",
   "execution_count": 99,
   "id": "037e4041-f512-4332-8871-03ffe3b74def",
   "metadata": {},
   "outputs": [
    {
     "name": "stdout",
     "output_type": "stream",
     "text": [
      "('apple', 'mango', 'banana', 'oranges')\n"
     ]
    }
   ],
   "source": [
    "x=('apple', 'mango', 'banana')\n",
    "y=(\"oranges\",)\n",
    "z=x+y\n",
    "print(z)"
   ]
  },
  {
   "cell_type": "code",
   "execution_count": 102,
   "id": "d6c6136c-ceca-4501-8bef-6c4985275f53",
   "metadata": {},
   "outputs": [
    {
     "name": "stdout",
     "output_type": "stream",
     "text": [
      "['apple', 'banana', 'oranges']\n"
     ]
    }
   ],
   "source": [
    "x=('apple', 'mango', 'banana', 'oranges')\n",
    "y=list(x)\n",
    "y.remove(\"mango\")\n",
    "print(y)"
   ]
  },
  {
   "cell_type": "code",
   "execution_count": 109,
   "id": "43ae21ad-18ed-4064-81b4-c02fdf75171e",
   "metadata": {},
   "outputs": [],
   "source": [
    "a=(\"Samsung\",\"iphone\",\"vivo\",\"oneplus\",\"oppo\")"
   ]
  },
  {
   "cell_type": "code",
   "execution_count": 120,
   "id": "cdabf2d9-9cdd-4f51-9d38-f8661bae0be3",
   "metadata": {},
   "outputs": [],
   "source": [
    "(hp,*dell,lenovo)=a"
   ]
  },
  {
   "cell_type": "code",
   "execution_count": 121,
   "id": "6c465905-8a5b-490d-911a-1f5e589852a2",
   "metadata": {},
   "outputs": [
    {
     "name": "stdout",
     "output_type": "stream",
     "text": [
      "Samsung\n"
     ]
    }
   ],
   "source": [
    "print(hp)"
   ]
  },
  {
   "cell_type": "code",
   "execution_count": 122,
   "id": "edc5c5a2-b1c7-4c5e-ac13-cb06e59308c3",
   "metadata": {},
   "outputs": [
    {
     "name": "stdout",
     "output_type": "stream",
     "text": [
      "['iphone', 'vivo', 'oneplus']\n"
     ]
    }
   ],
   "source": [
    "print(dell)"
   ]
  },
  {
   "cell_type": "code",
   "execution_count": 123,
   "id": "56ee3290-05aa-4e98-8a80-210a67aa0bb2",
   "metadata": {},
   "outputs": [
    {
     "name": "stdout",
     "output_type": "stream",
     "text": [
      "oppo\n"
     ]
    }
   ],
   "source": [
    "print(lenovo)"
   ]
  },
  {
   "cell_type": "code",
   "execution_count": 124,
   "id": "3e3daffa-59f0-4379-b719-7b96b8e3330e",
   "metadata": {},
   "outputs": [
    {
     "name": "stdout",
     "output_type": "stream",
     "text": [
      "Samsung\n",
      "['iphone', 'vivo', 'oneplus']\n",
      "oppo\n"
     ]
    }
   ],
   "source": [
    "print(hp)\n",
    "print(dell)\n",
    "print(lenovo)"
   ]
  },
  {
   "cell_type": "code",
   "execution_count": 128,
   "id": "57b7dde0-34f1-43a6-8266-83ed4a1ab52b",
   "metadata": {},
   "outputs": [
    {
     "name": "stdout",
     "output_type": "stream",
     "text": [
      "Samsung\n",
      "iphone\n",
      "vivo\n",
      "oneplus\n",
      "oppo\n"
     ]
    }
   ],
   "source": [
    "a=(\"Samsung\",\"iphone\",\"vivo\",\"oneplus\",\"oppo\")\n",
    "for i in (a):\n",
    "    print(i)"
   ]
  },
  {
   "cell_type": "code",
   "execution_count": 130,
   "id": "c6fd3a34-ac84-4675-871c-0edafa12accb",
   "metadata": {},
   "outputs": [
    {
     "name": "stdout",
     "output_type": "stream",
     "text": [
      "0\n",
      "1\n",
      "2\n",
      "3\n",
      "4\n"
     ]
    }
   ],
   "source": [
    "a=(\"Samsung\",\"iphone\",\"vivo\",\"oneplus\",\"oppo\")\n",
    "for i in range(len(a)):\n",
    "    print(i)"
   ]
  },
  {
   "cell_type": "code",
   "execution_count": 131,
   "id": "b594b173-f323-4a72-896c-6622098a9ff3",
   "metadata": {},
   "outputs": [
    {
     "name": "stdout",
     "output_type": "stream",
     "text": [
      "apple\n",
      "banana\n",
      "cherry\n"
     ]
    }
   ],
   "source": [
    "thistuple = (\"apple\", \"banana\", \"cherry\")\n",
    "i = 0\n",
    "while i < len(thistuple):\n",
    "  print(thistuple[i])\n",
    "  i = i + 1"
   ]
  },
  {
   "cell_type": "code",
   "execution_count": 3,
   "id": "0ef0ddf3-fc75-48c5-94e1-ec64820e77c5",
   "metadata": {},
   "outputs": [
    {
     "name": "stdout",
     "output_type": "stream",
     "text": [
      "Samsung\n",
      "iphone\n",
      "vivo\n",
      "oneplus\n",
      "oppo\n"
     ]
    }
   ],
   "source": [
    "a=(\"Samsung\",\"iphone\",\"vivo\",\"oneplus\",\"oppo\")\n",
    "b=0\n",
    "while b<len(a):\n",
    "    print(a[b])\n",
    "    b=b+1"
   ]
  },
  {
   "cell_type": "code",
   "execution_count": 5,
   "id": "1746adc2-1273-4018-9f44-f67dddbb76ef",
   "metadata": {},
   "outputs": [],
   "source": [
    "a=(\"Samsung\",\"iphone\",\"vivo\",\"oneplus\",\"oppo\")\n",
    "v=(1,2,3,6,5,4)\n",
    "c=a+v"
   ]
  },
  {
   "cell_type": "code",
   "execution_count": 6,
   "id": "e8185828-0fa1-4d34-aba4-fe367edcf8f2",
   "metadata": {},
   "outputs": [
    {
     "data": {
      "text/plain": [
       "('Samsung', 'iphone', 'vivo', 'oneplus', 'oppo', 1, 2, 3, 6, 5, 4)"
      ]
     },
     "execution_count": 6,
     "metadata": {},
     "output_type": "execute_result"
    }
   ],
   "source": [
    "c"
   ]
  },
  {
   "cell_type": "code",
   "execution_count": 7,
   "id": "f6e0ec00-95ea-4c90-b25a-9a45ed52e351",
   "metadata": {},
   "outputs": [
    {
     "name": "stdout",
     "output_type": "stream",
     "text": [
      "('Samsung', 'iphone', 'vivo', 'oneplus', 'oppo', 1, 2, 3, 6, 5, 4)\n"
     ]
    }
   ],
   "source": [
    "print(c)"
   ]
  },
  {
   "cell_type": "code",
   "execution_count": 8,
   "id": "d79c584d-2af6-48bf-8aa8-235df0446aa7",
   "metadata": {},
   "outputs": [],
   "source": [
    "a=(\"Samsung\",\"iphone\",\"vivo\",\"oneplus\",\"oppo\")\n",
    "b=(a*3)"
   ]
  },
  {
   "cell_type": "code",
   "execution_count": 9,
   "id": "2df57bda-3fee-4314-b3bd-6aa860c620f8",
   "metadata": {},
   "outputs": [
    {
     "data": {
      "text/plain": [
       "('Samsung',\n",
       " 'iphone',\n",
       " 'vivo',\n",
       " 'oneplus',\n",
       " 'oppo',\n",
       " 'Samsung',\n",
       " 'iphone',\n",
       " 'vivo',\n",
       " 'oneplus',\n",
       " 'oppo',\n",
       " 'Samsung',\n",
       " 'iphone',\n",
       " 'vivo',\n",
       " 'oneplus',\n",
       " 'oppo')"
      ]
     },
     "execution_count": 9,
     "metadata": {},
     "output_type": "execute_result"
    }
   ],
   "source": [
    "b"
   ]
  },
  {
   "cell_type": "code",
   "execution_count": 10,
   "id": "5c89b837-4460-4495-841e-eca73626b43c",
   "metadata": {},
   "outputs": [],
   "source": [
    "b=(a*2)"
   ]
  },
  {
   "cell_type": "code",
   "execution_count": 11,
   "id": "6fcee0c7-8d6f-40b2-a7ae-5d8d193d724a",
   "metadata": {},
   "outputs": [
    {
     "data": {
      "text/plain": [
       "('Samsung',\n",
       " 'iphone',\n",
       " 'vivo',\n",
       " 'oneplus',\n",
       " 'oppo',\n",
       " 'Samsung',\n",
       " 'iphone',\n",
       " 'vivo',\n",
       " 'oneplus',\n",
       " 'oppo')"
      ]
     },
     "execution_count": 11,
     "metadata": {},
     "output_type": "execute_result"
    }
   ],
   "source": [
    "b"
   ]
  },
  {
   "cell_type": "code",
   "execution_count": 1,
   "id": "de8a8e4d-b30a-40b0-a949-5c141b2beb5c",
   "metadata": {},
   "outputs": [],
   "source": [
    "a={\"apple\",\"banana\",\"lichi\"}"
   ]
  },
  {
   "cell_type": "code",
   "execution_count": 2,
   "id": "61d95942-1621-4ea7-9fca-85a046c5d92e",
   "metadata": {},
   "outputs": [
    {
     "data": {
      "text/plain": [
       "set"
      ]
     },
     "execution_count": 2,
     "metadata": {},
     "output_type": "execute_result"
    }
   ],
   "source": [
    "type(a)"
   ]
  },
  {
   "cell_type": "code",
   "execution_count": 3,
   "id": "7fa6b163-5e09-4128-bf2e-ef29e433f84f",
   "metadata": {},
   "outputs": [],
   "source": [
    "a={\"apple\",\"banana\",\"lichi\",\"apple\"}"
   ]
  },
  {
   "cell_type": "code",
   "execution_count": 4,
   "id": "10a768fd-2c08-429e-afca-0f1c737f55cf",
   "metadata": {},
   "outputs": [
    {
     "data": {
      "text/plain": [
       "set"
      ]
     },
     "execution_count": 4,
     "metadata": {},
     "output_type": "execute_result"
    }
   ],
   "source": [
    "type(a)"
   ]
  },
  {
   "cell_type": "code",
   "execution_count": 5,
   "id": "16d6c718-56ef-44eb-b682-fb07f7e33ff6",
   "metadata": {},
   "outputs": [
    {
     "name": "stdout",
     "output_type": "stream",
     "text": [
      "{'banana', 'lichi', 'apple'}\n"
     ]
    }
   ],
   "source": [
    "print(a)"
   ]
  },
  {
   "cell_type": "code",
   "execution_count": 6,
   "id": "31161dd7-5871-4592-ac31-82ae67bbdb76",
   "metadata": {},
   "outputs": [],
   "source": [
    "b={\"aman\",\"aashish\",True,1,2,3}"
   ]
  },
  {
   "cell_type": "code",
   "execution_count": 7,
   "id": "a6f38649-940b-4e89-a060-bb922c58020b",
   "metadata": {},
   "outputs": [
    {
     "name": "stdout",
     "output_type": "stream",
     "text": [
      "{True, 2, 3, 'aman', 'aashish'}\n"
     ]
    }
   ],
   "source": [
    "print(b)"
   ]
  },
  {
   "cell_type": "code",
   "execution_count": 8,
   "id": "1bfb5d34-8a51-429f-ad25-67f90c7ecb58",
   "metadata": {},
   "outputs": [],
   "source": [
    "b={\"aman\",\"aashish\",True,1,2,0,3,\"False\"}"
   ]
  },
  {
   "cell_type": "code",
   "execution_count": 9,
   "id": "50544d03-fe9c-45d3-8af5-e625a5a58340",
   "metadata": {},
   "outputs": [
    {
     "name": "stdout",
     "output_type": "stream",
     "text": [
      "{0, True, 2, 3, 'False', 'aman', 'aashish'}\n"
     ]
    }
   ],
   "source": [
    "print(b)"
   ]
  },
  {
   "cell_type": "code",
   "execution_count": 11,
   "id": "efe680b8-f8a5-426f-ba44-2cb6318b9aae",
   "metadata": {},
   "outputs": [],
   "source": [
    "#in sets{} 0 and false are considered as same value\n",
    "#true and 1 is also considered as same value"
   ]
  },
  {
   "cell_type": "code",
   "execution_count": 12,
   "id": "622c2423-3983-4a77-b295-f6f83aeb3f24",
   "metadata": {},
   "outputs": [
    {
     "ename": "TypeError",
     "evalue": "unsupported operand type(s) for +: 'set' and 'set'",
     "output_type": "error",
     "traceback": [
      "\u001b[1;31m---------------------------------------------------------------------------\u001b[0m",
      "\u001b[1;31mTypeError\u001b[0m                                 Traceback (most recent call last)",
      "Cell \u001b[1;32mIn[12], line 3\u001b[0m\n\u001b[0;32m      1\u001b[0m b\u001b[38;5;241m=\u001b[39m{\u001b[38;5;124m\"\u001b[39m\u001b[38;5;124maman\u001b[39m\u001b[38;5;124m\"\u001b[39m,\u001b[38;5;124m\"\u001b[39m\u001b[38;5;124maashish\u001b[39m\u001b[38;5;124m\"\u001b[39m,\u001b[38;5;28;01mTrue\u001b[39;00m,\u001b[38;5;241m1\u001b[39m,\u001b[38;5;241m2\u001b[39m,\u001b[38;5;241m0\u001b[39m,\u001b[38;5;241m3\u001b[39m,\u001b[38;5;124m\"\u001b[39m\u001b[38;5;124mFalse\u001b[39m\u001b[38;5;124m\"\u001b[39m}\n\u001b[0;32m      2\u001b[0m x\u001b[38;5;241m=\u001b[39m{\u001b[38;5;124m\"\u001b[39m\u001b[38;5;124mAashish\u001b[39m\u001b[38;5;124m\"\u001b[39m,\u001b[38;5;124m\"\u001b[39m\u001b[38;5;124mANUJ\u001b[39m\u001b[38;5;124m\"\u001b[39m,\u001b[38;5;124m\"\u001b[39m\u001b[38;5;124mtrue\u001b[39m\u001b[38;5;124m\"\u001b[39m,\u001b[38;5;28;01mTrue\u001b[39;00m,\u001b[38;5;241m1\u001b[39m}\n\u001b[1;32m----> 3\u001b[0m c\u001b[38;5;241m=\u001b[39m\u001b[43mx\u001b[49m\u001b[38;5;241;43m+\u001b[39;49m\u001b[43mb\u001b[49m\n",
      "\u001b[1;31mTypeError\u001b[0m: unsupported operand type(s) for +: 'set' and 'set'"
     ]
    }
   ],
   "source": [
    "b={\"aman\",\"aashish\",True,1,2,0,3,\"False\"}\n",
    "x={\"Aashish\",\"ANUJ\",\"true\",True,1}\n",
    "c=x+b"
   ]
  },
  {
   "cell_type": "code",
   "execution_count": 13,
   "id": "ab3cac4a-d08c-4a23-a954-20ba71d0db83",
   "metadata": {},
   "outputs": [
    {
     "ename": "NameError",
     "evalue": "name 'c' is not defined",
     "output_type": "error",
     "traceback": [
      "\u001b[1;31m---------------------------------------------------------------------------\u001b[0m",
      "\u001b[1;31mNameError\u001b[0m                                 Traceback (most recent call last)",
      "Cell \u001b[1;32mIn[13], line 1\u001b[0m\n\u001b[1;32m----> 1\u001b[0m \u001b[43mc\u001b[49m\n",
      "\u001b[1;31mNameError\u001b[0m: name 'c' is not defined"
     ]
    }
   ],
   "source": [
    "c"
   ]
  },
  {
   "cell_type": "code",
   "execution_count": 14,
   "id": "85132e72-9940-4bea-826d-95aa0c423cd8",
   "metadata": {},
   "outputs": [
    {
     "name": "stdout",
     "output_type": "stream",
     "text": [
      "3\n"
     ]
    }
   ],
   "source": [
    "thisset = {\"apple\", \"banana\", \"cherry\"}\n",
    "\n",
    "print(len(thisset))"
   ]
  },
  {
   "cell_type": "code",
   "execution_count": 15,
   "id": "357aad4b-b02e-4ff1-bc8e-c0e70eaaae00",
   "metadata": {},
   "outputs": [
    {
     "name": "stdout",
     "output_type": "stream",
     "text": [
      "<class 'set'>\n"
     ]
    }
   ],
   "source": [
    "print(type(a))"
   ]
  },
  {
   "cell_type": "code",
   "execution_count": 3,
   "id": "2098d823-d477-412e-9911-202fc078a204",
   "metadata": {},
   "outputs": [
    {
     "data": {
      "text/plain": [
       "97"
      ]
     },
     "execution_count": 3,
     "metadata": {},
     "output_type": "execute_result"
    }
   ],
   "source": [
    "start=(\"a\")\n",
    "ord(\"a\")"
   ]
  },
  {
   "cell_type": "code",
   "execution_count": 5,
   "id": "ad0436e8-2c43-43a9-ae0f-42348a2db7ac",
   "metadata": {},
   "outputs": [
    {
     "data": {
      "text/plain": [
       "122"
      ]
     },
     "execution_count": 5,
     "metadata": {},
     "output_type": "execute_result"
    }
   ],
   "source": [
    "end=(\"z\")\n",
    "ord(\"z\")"
   ]
  },
  {
   "cell_type": "code",
   "execution_count": 10,
   "id": "50cdd443-2bb2-4f3d-81f1-c50711eb1d10",
   "metadata": {},
   "outputs": [
    {
     "name": "stdout",
     "output_type": "stream",
     "text": [
      "a\n",
      "b\n",
      "c\n",
      "d\n",
      "e\n",
      "f\n",
      "g\n",
      "h\n",
      "i\n",
      "j\n",
      "k\n",
      "l\n",
      "m\n",
      "n\n",
      "o\n",
      "p\n",
      "q\n",
      "r\n",
      "s\n",
      "t\n",
      "u\n",
      "v\n",
      "w\n",
      "x\n",
      "y\n",
      "z\n"
     ]
    }
   ],
   "source": [
    "for i in range (97,123):\n",
    "    print(chr(i))"
   ]
  },
  {
   "cell_type": "code",
   "execution_count": 11,
   "id": "e01c4a1e-e3b7-4cd1-b283-b41089182c4a",
   "metadata": {},
   "outputs": [
    {
     "name": "stdout",
     "output_type": "stream",
     "text": [
      "A 91\n",
      "B 91\n",
      "C 91\n",
      "D 91\n",
      "E 91\n",
      "F 91\n",
      "G 91\n",
      "H 91\n",
      "I 91\n",
      "J 91\n",
      "K 91\n",
      "L 91\n",
      "M 91\n",
      "N 91\n",
      "O 91\n",
      "P 91\n",
      "Q 91\n",
      "R 91\n",
      "S 91\n",
      "T 91\n",
      "U 91\n",
      "V 91\n",
      "W 91\n",
      "X 91\n",
      "Y 91\n",
      "Z 91\n"
     ]
    }
   ],
   "source": [
    "start=ord(\"A\")\n",
    "end=start+26\n",
    "while(start<end):\n",
    "    print(chr(start),end)\n",
    "    start+=1"
   ]
  },
  {
   "cell_type": "code",
   "execution_count": 23,
   "id": "7d59434e-c396-4c08-8c6f-98dc800c0877",
   "metadata": {},
   "outputs": [
    {
     "name": "stdin",
     "output_type": "stream",
     "text": [
      "Enter a number 9\n"
     ]
    }
   ],
   "source": [
    "n=int(input(\"Enter a number\"))\n",
    "def factorial(n):\n",
    "    if(n==0):\n",
    "        return 0\n",
    "    elif(n==1):\n",
    "        return 1\n",
    "    else:\n",
    "        return n*factorial(n-1)\n",
    "        print(fact(n))"
   ]
  },
  {
   "cell_type": "code",
   "execution_count": 2,
   "id": "5e21a643-5507-44c2-931a-fe3f9d735fc1",
   "metadata": {},
   "outputs": [
    {
     "name": "stdin",
     "output_type": "stream",
     "text": [
      "Enter a number 4\n",
      "Enter a number 500\n"
     ]
    },
    {
     "name": "stdout",
     "output_type": "stream",
     "text": [
      "4\n",
      "5\n",
      "6\n",
      "7\n",
      "8\n",
      "9\n",
      "153\n",
      "370\n",
      "371\n",
      "407\n"
     ]
    }
   ],
   "source": [
    "i=int(input(\"Enter a number\"))\n",
    "j=int(input(\"Enter a number\"))\n",
    "while(i<j):\n",
    "    num=i\n",
    "    temp=num\n",
    "    result=0\n",
    "    length=len(str(temp))\n",
    "    while(temp>0):\n",
    "        lastdigit=temp%10\n",
    "        result=result+lastdigit**length\n",
    "        temp=temp//10\n",
    "    if(result==num):\n",
    "        print(num)\n",
    "    i+=1        "
   ]
  },
  {
   "cell_type": "code",
   "execution_count": null,
   "id": "d42fb17d-266b-46e9-8072-dd7a327e9bac",
   "metadata": {},
   "outputs": [],
   "source": [
    "i=int(input(\"Enter a number\"))\n",
    "j=int(input(\"Enter a number\"))\n",
    "while(i<j):\n",
    "    num=i\n",
    "    temp=num\n",
    "    result=0\n",
    "    length=len(str(temp))\n",
    "    while(temp>0):\n",
    "        lastdigit=temp%10\n",
    "        result=result+lastdigit**length\n",
    "        temp=temp//10\n",
    "    if(result==num):\n",
    "        print(num)\n",
    "    i+=1        "
   ]
  },
  {
   "cell_type": "code",
   "execution_count": 1,
   "id": "20da41b0-4c8a-4757-8f7f-e619918bb191",
   "metadata": {},
   "outputs": [
    {
     "name": "stdin",
     "output_type": "stream",
     "text": [
      "Enter the number 4\n",
      "emter the number 500\n"
     ]
    },
    {
     "name": "stdout",
     "output_type": "stream",
     "text": [
      "4\n",
      "5\n",
      "6\n",
      "7\n",
      "8\n",
      "9\n",
      "153\n",
      "370\n",
      "371\n",
      "407\n"
     ]
    }
   ],
   "source": [
    "i=int(input(\"Enter the number\"))\n",
    "j=int(input(\"emter the number\"))\n",
    "while i<j:\n",
    "    num=i\n",
    "    temp=num\n",
    "    result=0\n",
    "    lengh=len(str(temp))\n",
    "    while(temp>0):\n",
    "        lastdigit=temp%10\n",
    "        result=result+lastdigit**lengh\n",
    "        temp=temp//10\n",
    "    if(result==num):\n",
    "        print(num)\n",
    "    i+=1"
   ]
  },
  {
   "cell_type": "code",
   "execution_count": 6,
   "id": "b1c45d75-8e9e-4931-869e-f234e9339c26",
   "metadata": {},
   "outputs": [],
   "source": [
    "a={\"Aman\",\"Aashish\",\"Aman\"}"
   ]
  },
  {
   "cell_type": "code",
   "execution_count": 8,
   "id": "28624316-59f1-45f3-920b-237d78f599bc",
   "metadata": {},
   "outputs": [
    {
     "data": {
      "text/plain": [
       "set"
      ]
     },
     "execution_count": 8,
     "metadata": {},
     "output_type": "execute_result"
    }
   ],
   "source": [
    "type(a)"
   ]
  },
  {
   "cell_type": "code",
   "execution_count": 6,
   "id": "d9a2e8b7-bc3e-45c1-9529-d5126427a5ad",
   "metadata": {},
   "outputs": [
    {
     "name": "stdin",
     "output_type": "stream",
     "text": [
      "Enter the number 5\n",
      "emter the number 500\n"
     ]
    },
    {
     "ename": "NameError",
     "evalue": "name 'valueError' is not defined",
     "output_type": "error",
     "traceback": [
      "\u001b[1;31m---------------------------------------------------------------------------\u001b[0m",
      "\u001b[1;31mNameError\u001b[0m                                 Traceback (most recent call last)",
      "Cell \u001b[1;32mIn[6], line 13\u001b[0m\n\u001b[0;32m     12\u001b[0m     temp\u001b[38;5;241m=\u001b[39mtemp\u001b[38;5;241m/\u001b[39m\u001b[38;5;241m/\u001b[39m\u001b[38;5;241m10\u001b[39m\n\u001b[1;32m---> 13\u001b[0m \u001b[38;5;28;01mif\u001b[39;00m(result\u001b[38;5;241m==\u001b[39m\u001b[43mnu\u001b[49m):\n\u001b[0;32m     14\u001b[0m     \u001b[38;5;28mprint\u001b[39m(num)\n",
      "\u001b[1;31mNameError\u001b[0m: name 'nu' is not defined",
      "\nDuring handling of the above exception, another exception occurred:\n",
      "\u001b[1;31mNameError\u001b[0m                                 Traceback (most recent call last)",
      "Cell \u001b[1;32mIn[6], line 16\u001b[0m\n\u001b[0;32m     14\u001b[0m             \u001b[38;5;28mprint\u001b[39m(num)\n\u001b[0;32m     15\u001b[0m         i\u001b[38;5;241m+\u001b[39m\u001b[38;5;241m=\u001b[39m\u001b[38;5;241m1\u001b[39m\n\u001b[1;32m---> 16\u001b[0m \u001b[38;5;28;01mexcept\u001b[39;00m \u001b[43mvalueError\u001b[49m \u001b[38;5;28;01mas\u001b[39;00m b:\n\u001b[0;32m     17\u001b[0m     \u001b[38;5;28mprint\u001b[39m(b)\n",
      "\u001b[1;31mNameError\u001b[0m: name 'valueError' is not defined"
     ]
    }
   ],
   "source": [
    "i=int(input(\"Enter the number\"))\n",
    "j=int(input(\"emter the number\"))\n",
    "try:\n",
    "    while i<j:\n",
    "        num=i\n",
    "        temp=num\n",
    "        result=0\n",
    "        lengh=len(str(temp))\n",
    "        while(temp>0):\n",
    "            lastdigit=temp%10\n",
    "            result=result+lastdigit**lengh\n",
    "            temp=temp//10\n",
    "        if(result==nu):\n",
    "            print(num)\n",
    "        i+=1\n",
    "except valueError as b:\n",
    "    print(b)"
   ]
  },
  {
   "cell_type": "code",
   "execution_count": 4,
   "id": "055b5b68-010f-4ca3-9d7d-7edfa5f5f80c",
   "metadata": {},
   "outputs": [
    {
     "name": "stdin",
     "output_type": "stream",
     "text": [
      "Enter the number 5\n"
     ]
    }
   ],
   "source": [
    "i=int(input(\"Enter the number\"))"
   ]
  },
  {
   "cell_type": "code",
   "execution_count": null,
   "id": "eaa356ab-a434-4f29-a90f-12c127c62be7",
   "metadata": {},
   "outputs": [],
   "source": []
  }
 ],
 "metadata": {
  "kernelspec": {
   "display_name": "Python 3 (ipykernel)",
   "language": "python",
   "name": "python3"
  },
  "language_info": {
   "codemirror_mode": {
    "name": "ipython",
    "version": 3
   },
   "file_extension": ".py",
   "mimetype": "text/x-python",
   "name": "python",
   "nbconvert_exporter": "python",
   "pygments_lexer": "ipython3",
   "version": "3.12.1"
  }
 },
 "nbformat": 4,
 "nbformat_minor": 5
}
