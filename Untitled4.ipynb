{
 "cells": [
  {
   "cell_type": "code",
   "execution_count": 1,
   "id": "ddfee54e-0194-44da-bb6c-a3f9067fd646",
   "metadata": {},
   "outputs": [
    {
     "name": "stdin",
     "output_type": "stream",
     "text": [
      "Enter the number 5\n",
      "emter the number 500\n"
     ]
    },
    {
     "name": "stdout",
     "output_type": "stream",
     "text": [
      "5\n",
      "6\n",
      "7\n",
      "8\n",
      "9\n",
      "153\n",
      "370\n",
      "371\n",
      "407\n"
     ]
    }
   ],
   "source": [
    "i=int(input(\"Enter the number\"))\n",
    "j=int(input(\"emter the number\"))\n",
    "while i<j:\n",
    "    num=i\n",
    "    temp=num\n",
    "    result=0\n",
    "    lengh=len(str(temp))\n",
    "    while(temp>0):\n",
    "        lastdigit=temp%10\n",
    "        result=result+lastdigit**lengh\n",
    "        temp=temp//10\n",
    "    if(result==num):\n",
    "        print(num)\n",
    "    i+=1"
   ]
  },
  {
   "cell_type": "code",
   "execution_count": null,
   "id": "173de473-5f8a-4b3f-ac16-63cd415f0e7f",
   "metadata": {},
   "outputs": [],
   "source": []
  }
 ],
 "metadata": {
  "kernelspec": {
   "display_name": "Python 3 (ipykernel)",
   "language": "python",
   "name": "python3"
  },
  "language_info": {
   "codemirror_mode": {
    "name": "ipython",
    "version": 3
   },
   "file_extension": ".py",
   "mimetype": "text/x-python",
   "name": "python",
   "nbconvert_exporter": "python",
   "pygments_lexer": "ipython3",
   "version": "3.12.1"
  }
 },
 "nbformat": 4,
 "nbformat_minor": 5
}
