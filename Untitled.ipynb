{
 "cells": [
  {
   "cell_type": "code",
   "execution_count": 1,
   "id": "eed1704d-a4a5-4c81-8e7e-f6d5a6c95923",
   "metadata": {},
   "outputs": [],
   "source": [
    "A=10"
   ]
  },
  {
   "cell_type": "code",
   "execution_count": 3,
   "id": "43bc82dd-3b7e-4c78-b65b-05897c04dc5e",
   "metadata": {},
   "outputs": [
    {
     "data": {
      "text/plain": [
       "10"
      ]
     },
     "execution_count": 3,
     "metadata": {},
     "output_type": "execute_result"
    }
   ],
   "source": [
    "A"
   ]
  },
  {
   "cell_type": "code",
   "execution_count": 4,
   "id": "6a481747-e2aa-476a-859f-a73b67d24836",
   "metadata": {},
   "outputs": [
    {
     "name": "stdout",
     "output_type": "stream",
     "text": [
      "10\n"
     ]
    }
   ],
   "source": [
    "print(A)"
   ]
  },
  {
   "cell_type": "code",
   "execution_count": 1,
   "id": "1a93f80d-df37-4b92-83a4-ffc53213ad3a",
   "metadata": {},
   "outputs": [],
   "source": [
    "a=1"
   ]
  },
  {
   "cell_type": "code",
   "execution_count": 2,
   "id": "7f15d329-75ca-4df2-af6b-a77b9d88b13c",
   "metadata": {},
   "outputs": [
    {
     "data": {
      "text/plain": [
       "1"
      ]
     },
     "execution_count": 2,
     "metadata": {},
     "output_type": "execute_result"
    }
   ],
   "source": [
    "a"
   ]
  },
  {
   "cell_type": "code",
   "execution_count": 3,
   "id": "df9d33bd-7596-4296-9af8-a9c2761e4501",
   "metadata": {},
   "outputs": [
    {
     "ename": "NameError",
     "evalue": "name 'aman' is not defined",
     "output_type": "error",
     "traceback": [
      "\u001b[1;31m---------------------------------------------------------------------------\u001b[0m",
      "\u001b[1;31mNameError\u001b[0m                                 Traceback (most recent call last)",
      "Cell \u001b[1;32mIn[3], line 1\u001b[0m\n\u001b[1;32m----> 1\u001b[0m a\u001b[38;5;241m=\u001b[39m\u001b[43maman\u001b[49m\u001b[38;5;241m+\u001b[39m\u001b[38;5;241m1\u001b[39m\n",
      "\u001b[1;31mNameError\u001b[0m: name 'aman' is not defined"
     ]
    }
   ],
   "source": [
    "a=aman+1"
   ]
  },
  {
   "cell_type": "code",
   "execution_count": 6,
   "id": "02c847b4-b419-4cc8-99ab-721db777c44e",
   "metadata": {},
   "outputs": [
    {
     "name": "stdin",
     "output_type": "stream",
     "text": [
      "Enter a number 45452\n"
     ]
    },
    {
     "name": "stdout",
     "output_type": "stream",
     "text": [
      "reverse number 25454\n",
      "original number 45452\n",
      "non pallindrone\n"
     ]
    }
   ],
   "source": [
    "num=int(input(\"Enter a number\"))\n",
    "org=num\n",
    "rev=0\n",
    "while(num>0):\n",
    "    lastdigit=num%10\n",
    "    rev=rev*10+lastdigit\n",
    "    num=num//10\n",
    "print(\"reverse number\",rev)\n",
    "print(\"original number\",org)\n",
    "if (org==rev):\n",
    "    print(\"pallindrome no.\")\n",
    "else:\n",
    "    print(\"non pallindrone\")"
   ]
  },
  {
   "cell_type": "code",
   "execution_count": 13,
   "id": "ae0db092-12c6-45ff-a46d-c6b1eef0780e",
   "metadata": {},
   "outputs": [
    {
     "name": "stdin",
     "output_type": "stream",
     "text": [
      "enter a number 458796\n"
     ]
    },
    {
     "name": "stdout",
     "output_type": "stream",
     "text": [
      "reverse number 697854\n"
     ]
    }
   ],
   "source": [
    "num=int(input(\"enter a number\"))\n",
    "rev=0\n",
    "for i in range(0,len(str(num))):\n",
    "    lastdigit=num%10\n",
    "    rev=rev*10+lastdigit\n",
    "    num=num//10\n",
    "print(\"reverse number\",rev)"
   ]
  },
  {
   "cell_type": "code",
   "execution_count": 23,
   "id": "f534f577-6ba1-4507-b268-4f3ce0813f84",
   "metadata": {},
   "outputs": [
    {
     "name": "stdin",
     "output_type": "stream",
     "text": [
      "enter a number 44\n"
     ]
    },
    {
     "name": "stdout",
     "output_type": "stream",
     "text": [
      "prime\n"
     ]
    }
   ],
   "source": [
    "#prime number\n",
    "num=int(input(\"enter a number\"))\n",
    "for i in range(2,num):\n",
    "    if(num%10)==0:\n",
    "            print(\"not prime\")\n",
    "            break\n",
    "else:\n",
    "    print(\"prime\")"
   ]
  },
  {
   "cell_type": "code",
   "execution_count": 2,
   "id": "5a33c63a-de1d-4c14-8c09-0449437332c8",
   "metadata": {},
   "outputs": [
    {
     "name": "stdin",
     "output_type": "stream",
     "text": [
      "enter the value 45\n"
     ]
    },
    {
     "name": "stdout",
     "output_type": "stream",
     "text": [
      "prime\n",
      "not prime\n"
     ]
    }
   ],
   "source": [
    "num=int(input(\"enter the value\"))\n",
    "for i in range(2,num):\n",
    "    if (num%i)==0:\n",
    "        print(\"not prime\")\n",
    "        break\n",
    "    else:\n",
    "        print(\"prime\")\n",
    "        "
   ]
  },
  {
   "cell_type": "code",
   "execution_count": 5,
   "id": "20f89409-2c34-493c-a367-273d82073ce8",
   "metadata": {},
   "outputs": [
    {
     "name": "stdin",
     "output_type": "stream",
     "text": [
      "enter the value 4587\n"
     ]
    },
    {
     "name": "stdout",
     "output_type": "stream",
     "text": [
      "reverse number 7854\n"
     ]
    }
   ],
   "source": [
    "num=int(input(\"enter the value\"))\n",
    "rev=0\n",
    "while(num>0):\n",
    "    lastdigit=num%10\n",
    "    rev=rev*10+lastdigit\n",
    "    num=num//10\n",
    "print(\"reverse number\",rev)"
   ]
  },
  {
   "cell_type": "code",
   "execution_count": 3,
   "id": "6a62a4d3-ca1f-4068-aa0b-9b674bb771bf",
   "metadata": {},
   "outputs": [
    {
     "name": "stdin",
     "output_type": "stream",
     "text": [
      "enter the value 1254789632541\n"
     ]
    },
    {
     "name": "stdout",
     "output_type": "stream",
     "text": [
      "reverse number 1452369874521\n"
     ]
    }
   ],
   "source": [
    "num=int(input(\"enter the value\"))\n",
    "rev=0\n",
    "while(num>0):\n",
    "    lastdigit=num%10\n",
    "    rev=rev*10+lastdigit\n",
    "    num=num//10\n",
    "print(\"reverse number\",rev)"
   ]
  },
  {
   "cell_type": "code",
   "execution_count": 4,
   "id": "5700999b-a80f-4ac2-8eda-ac101dec309b",
   "metadata": {},
   "outputs": [
    {
     "name": "stdin",
     "output_type": "stream",
     "text": [
      "enter the number 458796321\n"
     ]
    },
    {
     "name": "stdout",
     "output_type": "stream",
     "text": [
      "reverse number 123697854\n",
      "non pallindrome number\n"
     ]
    }
   ],
   "source": [
    "num=int(input(\"enter the number\"))\n",
    "org=num\n",
    "rev=0\n",
    "while(num>0):\n",
    "    lastdigit=num%10\n",
    "    rev=rev*10+lastdigit\n",
    "    num=num//10\n",
    "print(\"reverse number\",rev)\n",
    "if(org==rev):\n",
    "    print(\"pallindrome number\")\n",
    "else:\n",
    "    print(\"non pallindrome number\")"
   ]
  },
  {
   "cell_type": "code",
   "execution_count": 7,
   "id": "39e88942-890c-4a47-9640-cde64868530a",
   "metadata": {},
   "outputs": [
    {
     "name": "stdin",
     "output_type": "stream",
     "text": [
      "ente the number 5\n"
     ]
    },
    {
     "name": "stdout",
     "output_type": "stream",
     "text": [
      "prime numbers\n"
     ]
    }
   ],
   "source": [
    "num=int(input(\"ente the number\"))\n",
    "for i in range(2,num):\n",
    "    if(num%i)==0:\n",
    "        print(\"not prime numbers\")\n",
    "else:\n",
    "    print(\"prime numbers\")"
   ]
  },
  {
   "cell_type": "code",
   "execution_count": 23,
   "id": "68043816-65df-4945-abbd-f9b1d44dc206",
   "metadata": {},
   "outputs": [
    {
     "name": "stdin",
     "output_type": "stream",
     "text": [
      "enter start value:- 4\n",
      "enter end number:- 55\n"
     ]
    },
    {
     "name": "stdout",
     "output_type": "stream",
     "text": [
      "5\n",
      "7\n",
      "11\n",
      "13\n",
      "17\n",
      "19\n",
      "23\n",
      "29\n",
      "31\n",
      "37\n",
      "41\n",
      "43\n",
      "47\n",
      "53\n"
     ]
    }
   ],
   "source": [
    "start=int(input(\"enter start value:-\"))\n",
    "end=num=int(input(\"enter end number:-\"))\n",
    "for i in range(start,end+1):\n",
    "    for n in range(2,i):\n",
    "        if(i%n)==0:\n",
    "           break\n",
    "    else:\n",
    "        print(i)\n"
   ]
  },
  {
   "cell_type": "code",
   "execution_count": 24,
   "id": "3b97e8d9-706f-4e1a-8d85-2e45bc0a761b",
   "metadata": {},
   "outputs": [
    {
     "name": "stdin",
     "output_type": "stream",
     "text": [
      "enter the number 5\n"
     ]
    },
    {
     "name": "stdout",
     "output_type": "stream",
     "text": [
      "prime\n"
     ]
    }
   ],
   "source": [
    "num=int(input(\"enter the number\"))\n",
    "for i in range(2,n):\n",
    "    if(n%i)==0:\n",
    "        print(\"not prime\")\n",
    "        break\n",
    "else:\n",
    "    print(\"prime\")"
   ]
  },
  {
   "cell_type": "code",
   "execution_count": 7,
   "id": "c2ec6e0d-ec65-4e75-8edc-abd15802753c",
   "metadata": {},
   "outputs": [
    {
     "name": "stdin",
     "output_type": "stream",
     "text": [
      "enter the number 4\n",
      "enter the number 98\n"
     ]
    },
    {
     "name": "stdout",
     "output_type": "stream",
     "text": [
      "98\n"
     ]
    }
   ],
   "source": [
    "start=int(input(\"enter the number\"))\n",
    "end=int(input(\"enter the number\"))\n",
    "for i in range(start,end+1):\n",
    "    for n in range(2,i):\n",
    "        if(i%n)==0:\n",
    "            break\n",
    "else:\n",
    "    print(i)\n",
    "        "
   ]
  },
  {
   "cell_type": "code",
   "execution_count": 21,
   "id": "07c4c1d0-7107-4932-82f2-83dcc84225e6",
   "metadata": {},
   "outputs": [
    {
     "name": "stdin",
     "output_type": "stream",
     "text": [
      "enter the number 7\n"
     ]
    },
    {
     "name": "stdout",
     "output_type": "stream",
     "text": [
      "prime\n"
     ]
    }
   ],
   "source": [
    "num=int(input(\"enter the number\"))\n",
    "for i in range(2,num):\n",
    "    if(num%i)==0:\n",
    "        print(\"not prime\")\n",
    "        break\n",
    "else:\n",
    "    print(\"prime\")"
   ]
  },
  {
   "cell_type": "code",
   "execution_count": 22,
   "id": "93ce7fe5-e77a-4215-bc4b-2672278278c8",
   "metadata": {},
   "outputs": [
    {
     "name": "stdin",
     "output_type": "stream",
     "text": [
      "enter a number 2\n",
      "enter the number 25\n"
     ]
    },
    {
     "name": "stdout",
     "output_type": "stream",
     "text": [
      "2\n",
      "3\n",
      "5\n",
      "7\n",
      "11\n",
      "13\n",
      "17\n",
      "19\n",
      "23\n"
     ]
    }
   ],
   "source": [
    "start=int(input(\"enter a number\"))\n",
    "end=int(input(\"enter the number\"))\n",
    "for i in range(start,end+1):\n",
    "    for j in range(2,i):\n",
    "        if(i%j)==0:\n",
    "            break\n",
    "    else:\n",
    "        print(i)"
   ]
  },
  {
   "cell_type": "code",
   "execution_count": 12,
   "id": "2cbcd3d3-6900-42fd-9c9b-a8907b3b3d4a",
   "metadata": {},
   "outputs": [
    {
     "name": "stdin",
     "output_type": "stream",
     "text": [
      "enter thr number 53435435\n"
     ]
    },
    {
     "name": "stdout",
     "output_type": "stream",
     "text": [
      "reverse numers 53453435\n",
      "non pallindrome\n"
     ]
    }
   ],
   "source": [
    "num=int(input(\"enter thr number\"))\n",
    "org=num\n",
    "rev=0\n",
    "while(num>0):\n",
    "    lastdigit=num%10\n",
    "    rev=rev*10+lastdigit\n",
    "    num=num//10\n",
    "print(\"reverse numers\",rev)\n",
    "if(org==rev):\n",
    "    print(\"pallindrome\")\n",
    "else:\n",
    "    print(\"non pallindrome\")"
   ]
  },
  {
   "cell_type": "code",
   "execution_count": null,
   "id": "a9ecdf5c-7fff-44e2-8862-23fa85eb9b60",
   "metadata": {},
   "outputs": [],
   "source": [
    "num=int(input(\"enter the number\"))\n",
    "temp=num\n",
    "result=0\n",
    "lenth=len(str(num))\n",
    "while(temp>0):\n",
    "    lastdigit=temp%10\n",
    "    result=result+lastdigit**lenth\n",
    "    temp=temp//10\n",
    "if(result==num):\n",
    "    print(\"armstrong\")\n",
    "else:\n",
    "    (\"not armstrong\")"
   ]
  },
  {
   "cell_type": "code",
   "execution_count": 19,
   "id": "ad1abca5-e336-4df0-8cf8-95181cc11b7e",
   "metadata": {},
   "outputs": [
    {
     "name": "stdin",
     "output_type": "stream",
     "text": [
      "enter the number 1661\n"
     ]
    },
    {
     "name": "stdout",
     "output_type": "stream",
     "text": [
      "not armstrong\n"
     ]
    }
   ],
   "source": [
    "num=int(input(\"enter the number\"))\n",
    "temp=num\n",
    "result=0\n",
    "lenth=len(str(num))\n",
    "while(temp>0):\n",
    "    lastdigit=temp%10\n",
    "    result=result+lastdigit**lenth\n",
    "    temp=temp//10\n",
    "if(result==num):\n",
    "    print(\"armstrong\")\n",
    "else:\n",
    "    print(\"not armstrong\")"
   ]
  },
  {
   "cell_type": "code",
   "execution_count": 3,
   "id": "e0f5f6d2-3654-43b9-a26c-657aa481f6f1",
   "metadata": {},
   "outputs": [
    {
     "name": "stdin",
     "output_type": "stream",
     "text": [
      "enter the numbeer 4\n",
      "enter the numbeer 10000\n"
     ]
    },
    {
     "name": "stdout",
     "output_type": "stream",
     "text": [
      "4\n",
      "5\n",
      "6\n",
      "7\n",
      "8\n",
      "9\n",
      "153\n",
      "370\n",
      "371\n",
      "407\n",
      "1634\n",
      "8208\n",
      "9474\n"
     ]
    }
   ],
   "source": [
    "i = int(input(\"enter the numbeer\"))\n",
    "j=int(input(\"enter the numbeer\"))\n",
    "while i < j:\n",
    "    num=i\n",
    "    temp=num\n",
    "    result=0\n",
    "    lenth=len(str(num))\n",
    "    while(temp>0):\n",
    "        lastdigit=temp%10\n",
    "        result=result+lastdigit**lenth\n",
    "        temp=temp//10\n",
    "    if(result==num):\n",
    "        print(num)\n",
    "    i += 1 "
   ]
  },
  {
   "cell_type": "code",
   "execution_count": 37,
   "id": "2a960845-9bd7-4008-92ff-51f548e9e66d",
   "metadata": {},
   "outputs": [],
   "source": [
    "class animal:\n",
    "    x = 00\n",
    "    y = \"\"\n",
    "    z = 00\n",
    "    def legs(self):\n",
    "        z = 4\n",
    "        print(z)\n",
    "    def prajati(self):\n",
    "        y = \"Cat\"\n",
    "        print(y)\n",
    "    def count(self):\n",
    "        x = 1000\n",
    "        print(x)"
   ]
  },
  {
   "cell_type": "code",
   "execution_count": 38,
   "id": "15adb2e9-2801-464b-93c8-0d74a6b735d5",
   "metadata": {},
   "outputs": [],
   "source": [
    "a = animal()"
   ]
  },
  {
   "cell_type": "code",
   "execution_count": 39,
   "id": "3a7f35cc-40f5-445c-a485-162c8e7ef029",
   "metadata": {},
   "outputs": [
    {
     "name": "stdout",
     "output_type": "stream",
     "text": [
      "4\n",
      "Cat\n",
      "1000\n"
     ]
    }
   ],
   "source": [
    "x = a.legs()\n",
    "y = a.prajati()\n",
    "z = a.count()"
   ]
  },
  {
   "cell_type": "code",
   "execution_count": 36,
   "id": "b32edd82-8975-4266-8d34-9cffd1eb7fe6",
   "metadata": {},
   "outputs": [
    {
     "name": "stdout",
     "output_type": "stream",
     "text": [
      "4 Cat 1000\n"
     ]
    }
   ],
   "source": [
    "print(x,y,z)"
   ]
  },
  {
   "cell_type": "code",
   "execution_count": 4,
   "id": "13370450-7e52-4e86-bf3f-c6ca665a0a57",
   "metadata": {},
   "outputs": [],
   "source": [
    "class animal:\n",
    "    x = 00\n",
    "    y = \"\"\n",
    "    z = 00\n",
    "    def legs(self):\n",
    "        z = 4\n",
    "        print(z)\n",
    "    def prajati(self):\n",
    "        y = \"Cat\"\n",
    "        print(y)\n",
    "    def count(self):\n",
    "        x = 1000\n",
    "        print(x)"
   ]
  },
  {
   "cell_type": "code",
   "execution_count": 5,
   "id": "689987be-9268-4407-b468-3ddb628759c1",
   "metadata": {},
   "outputs": [],
   "source": [
    "a=animal()"
   ]
  },
  {
   "cell_type": "code",
   "execution_count": 6,
   "id": "0b8af413-d193-4815-b537-52fa53d8f0af",
   "metadata": {},
   "outputs": [
    {
     "name": "stdout",
     "output_type": "stream",
     "text": [
      "4\n",
      "Cat\n",
      "1000\n"
     ]
    }
   ],
   "source": [
    "x=a.legs()\n",
    "y=a.prajati()\n",
    "z=a.count()"
   ]
  },
  {
   "cell_type": "code",
   "execution_count": null,
   "id": "dfc2973f-cc8a-48b5-a631-f5d67c451c5a",
   "metadata": {},
   "outputs": [
    {
     "name": "stdin",
     "output_type": "stream",
     "text": [
      "Enter the number 4\n",
      "emter the number 500\n"
     ]
    },
    {
     "name": "stdout",
     "output_type": "stream",
     "text": [
      "4\n",
      "5\n",
      "6\n",
      "7\n",
      "8\n",
      "9\n"
     ]
    }
   ],
   "source": [
    "i=int(input(\"Enter the number\"))\n",
    "j=int(input(\"emter the number\"))\n",
    "while(i<j):\n",
    "    num=i\n",
    "    temp=num\n",
    "    result=0\n",
    "    lengh=len(str(temp))\n",
    "    while(temp>0):\n",
    "        lastdigit=temp%10\n",
    "        result=result+lastdigit**lengh\n",
    "        temp=temp//10\n",
    "    if(result==num):\n",
    "        print(num)\n",
    "        i+=1"
   ]
  },
  {
   "cell_type": "code",
   "execution_count": null,
   "id": "161b3616-fa83-42a2-8cb7-77aebc4db059",
   "metadata": {},
   "outputs": [],
   "source": []
  }
 ],
 "metadata": {
  "kernelspec": {
   "display_name": "Python 3 (ipykernel)",
   "language": "python",
   "name": "python3"
  },
  "language_info": {
   "codemirror_mode": {
    "name": "ipython",
    "version": 3
   },
   "file_extension": ".py",
   "mimetype": "text/x-python",
   "name": "python",
   "nbconvert_exporter": "python",
   "pygments_lexer": "ipython3",
   "version": "3.12.1"
  }
 },
 "nbformat": 4,
 "nbformat_minor": 5
}
