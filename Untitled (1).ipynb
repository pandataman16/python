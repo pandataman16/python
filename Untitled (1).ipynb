{
 "cells": [
  {
   "cell_type": "code",
   "execution_count": 1,
   "id": "9e733e69-4e40-405b-a50c-6a3a6a7e1408",
   "metadata": {},
   "outputs": [
    {
     "name": "stdout",
     "output_type": "stream",
     "text": [
      "C is greater\n"
     ]
    }
   ],
   "source": [
    "#greater of three number\n",
    "a = 90\n",
    "b = 20\n",
    "c = 100\n",
    "if a > b:\n",
    "    if a > c:\n",
    "        print(\"a is Greater\")\n",
    "    else :\n",
    "        print(\"C is greater\")\n",
    "else :\n",
    "    if b > c:\n",
    "        print(\"b is greater\")\n",
    "    else :\n",
    "        print(\"C is greater\")"
   ]
  },
  {
   "cell_type": "code",
   "execution_count": 4,
   "id": "4d70a788-31d5-488b-80a9-b61bfcc76670",
   "metadata": {},
   "outputs": [
    {
     "name": "stdin",
     "output_type": "stream",
     "text": [
      "Enter the name jha\n"
     ]
    },
    {
     "name": "stdout",
     "output_type": "stream",
     "text": [
      "Not Matched\n"
     ]
    }
   ],
   "source": [
    "name = input(\"Enter the name\")\n",
    "match name:\n",
    "    case \"Aman\":\n",
    "        print(\"right\")\n",
    "    case \"Vipul\":\n",
    "        print(\"Wrong\")\n",
    "    case _:\n",
    "        print(\"Not Matched\")"
   ]
  },
  {
   "cell_type": "code",
   "execution_count": 2,
   "id": "37e20018-78bf-4f18-9ac2-e9e93d5c6659",
   "metadata": {},
   "outputs": [
    {
     "name": "stdin",
     "output_type": "stream",
     "text": [
      " 10\n"
     ]
    },
    {
     "name": "stdout",
     "output_type": "stream",
     "text": [
      "1\n",
      "2\n",
      "3\n",
      "4\n",
      "5\n",
      "6\n",
      "7\n",
      "8\n",
      "9\n",
      "10\n",
      "11\n",
      "12\n"
     ]
    }
   ],
   "source": [
    "#loop\n",
    "n = int(input())\n",
    "for k in range(1,n+3):\n",
    "    print(k)"
   ]
  },
  {
   "cell_type": "code",
   "execution_count": 19,
   "id": "7ee8194b-e143-4a9d-9a5b-344c123d6a14",
   "metadata": {},
   "outputs": [
    {
     "name": "stdout",
     "output_type": "stream",
     "text": [
      "1\n",
      "2\n",
      "3\n",
      "4\n",
      "5\n",
      "6\n",
      "7\n",
      "8\n",
      "9\n",
      "10\n",
      "11\n",
      "12\n",
      "13\n",
      "14\n",
      "15\n",
      "16\n",
      "17\n",
      "18\n",
      "19\n",
      "20\n",
      "21\n",
      "22\n",
      "23\n",
      "24\n",
      "25\n",
      "26\n",
      "27\n",
      "28\n",
      "29\n",
      "30\n",
      "31\n",
      "32\n",
      "33\n",
      "34\n",
      "35\n",
      "36\n",
      "37\n",
      "38\n",
      "39\n",
      "40\n",
      "41\n",
      "42\n",
      "43\n",
      "44\n",
      "45\n",
      "46\n",
      "47\n",
      "48\n",
      "49\n",
      "50\n"
     ]
    }
   ],
   "source": [
    "i = 1\n",
    "while i <=50:\n",
    "    print(i)\n",
    "    i = i+1"
   ]
  },
  {
   "cell_type": "code",
   "execution_count": 7,
   "id": "95ac9f5c-084a-46ec-b5e1-baf227acbb18",
   "metadata": {},
   "outputs": [
    {
     "name": "stdin",
     "output_type": "stream",
     "text": [
      "Enter value e\n"
     ]
    },
    {
     "name": "stdout",
     "output_type": "stream",
     "text": [
      "Vowel\n"
     ]
    }
   ],
   "source": [
    "_1 = input(\"Enter value\")\n",
    "if _1 == \"a\" or _1 == \"e\" or _1 == \"i\" or _1 == \"o\" or _1 == \"u\":\n",
    "    print(\"Vowel\")\n",
    "else : \n",
    "    print(\"Consonant\")\n"
   ]
  },
  {
   "cell_type": "code",
   "execution_count": 8,
   "id": "ccd8e524-4c1b-4687-8bc8-a1180770d37c",
   "metadata": {},
   "outputs": [
    {
     "data": {
      "text/plain": [
       "str"
      ]
     },
     "execution_count": 8,
     "metadata": {},
     "output_type": "execute_result"
    }
   ],
   "source": [
    "type(_1\n",
    ")"
   ]
  },
  {
   "cell_type": "code",
   "execution_count": null,
   "id": "19171534-da70-4ec7-93a1-f5e6a9cf9e3d",
   "metadata": {},
   "outputs": [],
   "source": [
    "a=float"
   ]
  }
 ],
 "metadata": {
  "kernelspec": {
   "display_name": "Python 3 (ipykernel)",
   "language": "python",
   "name": "python3"
  },
  "language_info": {
   "codemirror_mode": {
    "name": "ipython",
    "version": 3
   },
   "file_extension": ".py",
   "mimetype": "text/x-python",
   "name": "python",
   "nbconvert_exporter": "python",
   "pygments_lexer": "ipython3",
   "version": "3.12.1"
  }
 },
 "nbformat": 4,
 "nbformat_minor": 5
}
