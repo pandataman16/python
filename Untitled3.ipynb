{
 "cells": [
  {
   "cell_type": "code",
   "execution_count": 1,
   "id": "f641c44a-bedc-45da-b67d-1d3048ef7086",
   "metadata": {},
   "outputs": [
    {
     "name": "stdin",
     "output_type": "stream",
     "text": [
      "enter the number 5\n"
     ]
    },
    {
     "name": "stdout",
     "output_type": "stream",
     "text": [
      "prime\n"
     ]
    }
   ],
   "source": [
    "num=int(input(\"enter the number\"))\n",
    "for i in range(2,num):\n",
    "    if(num%i)==0:\n",
    "        print(\"not prime\")\n",
    "        break\n",
    "else:\n",
    "    print(\"prime\")\n"
   ]
  },
  {
   "cell_type": "code",
   "execution_count": 5,
   "id": "69822e4b-4b3d-434d-8780-a65d55088a36",
   "metadata": {},
   "outputs": [
    {
     "name": "stdin",
     "output_type": "stream",
     "text": [
      "enter the number 4444\n",
      "enter the number 44\n"
     ]
    },
    {
     "name": "stdout",
     "output_type": "stream",
     "text": [
      "non pallindrome\n"
     ]
    }
   ],
   "source": [
    "num=int(input(\"enter the number\"))\n",
    "n=int(input(\"enter the number\"))\n",
    "if(num==n):\n",
    "    print(\"pallindrome\")\n",
    "else:\n",
    "    print(\"non pallindrome\")\n",
    "        "
   ]
  },
  {
   "cell_type": "code",
   "execution_count": null,
   "id": "c56a3536-2e44-49b3-9a06-43f35fd7f774",
   "metadata": {},
   "outputs": [],
   "source": [
    "num=int(input(\"enter the number\"))\n",
    "rev=0\n",
    "result=0\n",
    "org=num\n",
    "temp=num\n",
    "while(num>0):\n",
    "    lastdigit=num%10\n",
    "    result=result*10+lastdigit\n",
    "    temp=temp//10\n",
    "print(\"reverse number\",rev)\n",
    "print(\"original number\",org)\n",
    "\n",
    "    \n"
   ]
  },
  {
   "cell_type": "code",
   "execution_count": null,
   "id": "dbf07afb-a70c-47e4-825b-51b7cbf5507e",
   "metadata": {},
   "outputs": [],
   "source": [
    "\n"
   ]
  }
 ],
 "metadata": {
  "kernelspec": {
   "display_name": "Python 3 (ipykernel)",
   "language": "python",
   "name": "python3"
  },
  "language_info": {
   "codemirror_mode": {
    "name": "ipython",
    "version": 3
   },
   "file_extension": ".py",
   "mimetype": "text/x-python",
   "name": "python",
   "nbconvert_exporter": "python",
   "pygments_lexer": "ipython3",
   "version": "3.12.1"
  }
 },
 "nbformat": 4,
 "nbformat_minor": 5
}
