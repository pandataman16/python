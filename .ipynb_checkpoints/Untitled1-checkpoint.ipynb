{
 "cells": [
  {
   "cell_type": "code",
   "execution_count": 9,
   "id": "43f00eec-3b24-4686-a98f-9804112428e8",
   "metadata": {},
   "outputs": [
    {
     "name": "stdin",
     "output_type": "stream",
     "text": [
      " 54\n"
     ]
    }
   ],
   "source": [
    "a=int(input())"
   ]
  },
  {
   "cell_type": "code",
   "execution_count": 7,
   "id": "51a84d04-af28-49d9-a515-0e09ab50d1fd",
   "metadata": {},
   "outputs": [
    {
     "data": {
      "text/plain": [
       "int"
      ]
     },
     "execution_count": 7,
     "metadata": {},
     "output_type": "execute_result"
    }
   ],
   "source": [
    "type(a)"
   ]
  },
  {
   "cell_type": "code",
   "execution_count": 4,
   "id": "b25ce9b7-c462-430f-954a-f5e5c430e47f",
   "metadata": {},
   "outputs": [
    {
     "data": {
      "text/plain": [
       "str"
      ]
     },
     "execution_count": 4,
     "metadata": {},
     "output_type": "execute_result"
    }
   ],
   "source": [
    "type(a)"
   ]
  },
  {
   "cell_type": "code",
   "execution_count": 5,
   "id": "c1b3f6f8-20e4-47c2-b49c-e836f9780e3b",
   "metadata": {},
   "outputs": [
    {
     "name": "stdin",
     "output_type": "stream",
     "text": [
      " 754\n"
     ]
    }
   ],
   "source": [
    "b=int(input(\"\"))"
   ]
  },
  {
   "cell_type": "code",
   "execution_count": 6,
   "id": "0092d702-4239-4ea6-9b40-885c63e7ac90",
   "metadata": {},
   "outputs": [
    {
     "data": {
      "text/plain": [
       "int"
      ]
     },
     "execution_count": 6,
     "metadata": {},
     "output_type": "execute_result"
    }
   ],
   "source": [
    "type(b)"
   ]
  },
  {
   "cell_type": "code",
   "execution_count": 10,
   "id": "bdfc47d7-4336-43d2-9ee8-4db077e15f1c",
   "metadata": {},
   "outputs": [
    {
     "name": "stdin",
     "output_type": "stream",
     "text": [
      " False\n"
     ]
    }
   ],
   "source": [
    "c=bool(input(\"\"))"
   ]
  },
  {
   "cell_type": "code",
   "execution_count": 11,
   "id": "01ab4d2e-73f5-49cf-a974-9db5db6c0859",
   "metadata": {},
   "outputs": [
    {
     "data": {
      "text/plain": [
       "True"
      ]
     },
     "execution_count": 11,
     "metadata": {},
     "output_type": "execute_result"
    }
   ],
   "source": [
    "c"
   ]
  },
  {
   "cell_type": "code",
   "execution_count": 9,
   "id": "4e03db69-d564-45a6-910b-6a8c5ffff5da",
   "metadata": {},
   "outputs": [],
   "source": [
    "a=2"
   ]
  },
  {
   "cell_type": "code",
   "execution_count": 10,
   "id": "f10342b1-1180-494c-a26b-c2d812130ca2",
   "metadata": {},
   "outputs": [],
   "source": [
    "b=3"
   ]
  },
  {
   "cell_type": "code",
   "execution_count": 11,
   "id": "ed16e8a1-5c03-486e-a689-a54d0acb651a",
   "metadata": {},
   "outputs": [],
   "source": [
    "c=4"
   ]
  },
  {
   "cell_type": "code",
   "execution_count": 12,
   "id": "ff2bfb19-7ee1-4a4d-b275-56a6eba3421f",
   "metadata": {},
   "outputs": [],
   "source": [
    "d=11"
   ]
  },
  {
   "cell_type": "code",
   "execution_count": 13,
   "id": "7c93527a-5948-4f31-ab75-e71346dc0064",
   "metadata": {},
   "outputs": [],
   "source": [
    "e=11"
   ]
  },
  {
   "cell_type": "code",
   "execution_count": 14,
   "id": "9706b15b-d521-47e1-842b-7efb28a622ae",
   "metadata": {},
   "outputs": [],
   "source": [
    "f=4"
   ]
  },
  {
   "cell_type": "code",
   "execution_count": 15,
   "id": "b9fdc52a-56f0-4cb5-9333-1fc9c7dbb59c",
   "metadata": {},
   "outputs": [
    {
     "data": {
      "text/plain": [
       "-29360127.333333332"
      ]
     },
     "execution_count": 15,
     "metadata": {},
     "output_type": "execute_result"
    }
   ],
   "source": [
    "a/b-c**d*(e-f)"
   ]
  },
  {
   "cell_type": "code",
   "execution_count": 16,
   "id": "6be16363-3407-437d-be78-4c080d158b6e",
   "metadata": {},
   "outputs": [
    {
     "name": "stdin",
     "output_type": "stream",
     "text": [
      "Enter your name aaaaaaaaaaaaaaaaaaaaaaaaaaaaaaaaaaaaaaaaaaaaaaaaaaaaaaaaaaaaaaaaaaaaaaaaaaaaaaaaaaaaaaaaaaaaaaaaaaaaaaaaaaaaaaaaaaaaaasssssssssaaaaaaaaaaaaaaaaaaaaaaaaaaaaaaaaaaaaaaaaaaaaaaaaaaaaaaaaaaaaaaaaaaaaaaaaaaaaaaaaaaaaaaaaaaaaaaaaaaaaaaaaaaaaaaaaaaaaaaaaaaasssssssssssssssssssssssssssssssssssssssssssssssssssssssssssssssssssssssssssssssssssssssssssssssssssssssssssssssss\n"
     ]
    }
   ],
   "source": [
    "a=input(\"Enter your name\")"
   ]
  },
  {
   "cell_type": "code",
   "execution_count": 13,
   "id": "78b3b594-2d4f-4361-8e49-d8b96aac96ef",
   "metadata": {},
   "outputs": [],
   "source": [
    "a=94"
   ]
  },
  {
   "cell_type": "code",
   "execution_count": 14,
   "id": "b70246c8-817a-4cff-888b-518aa4d70a9b",
   "metadata": {},
   "outputs": [
    {
     "data": {
      "text/plain": [
       "94"
      ]
     },
     "execution_count": 14,
     "metadata": {},
     "output_type": "execute_result"
    }
   ],
   "source": [
    "a"
   ]
  },
  {
   "cell_type": "code",
   "execution_count": 15,
   "id": "955871c7-46f8-42a3-ab27-0959336c451d",
   "metadata": {},
   "outputs": [
    {
     "name": "stdout",
     "output_type": "stream",
     "text": [
      "Greater\n"
     ]
    }
   ],
   "source": [
    "if a == 90:\n",
    "    print(a)\n",
    "elif a>90:\n",
    "    print(\"Greater\")\n",
    "else :\n",
    "    print(\"Smaller\")"
   ]
  },
  {
   "cell_type": "code",
   "execution_count": 16,
   "id": "041acb11-7789-49cd-a5e5-e292adf4e11e",
   "metadata": {},
   "outputs": [
    {
     "ename": "NameError",
     "evalue": "name 'b' is not defined",
     "output_type": "error",
     "traceback": [
      "\u001b[1;31m---------------------------------------------------------------------------\u001b[0m",
      "\u001b[1;31mNameError\u001b[0m                                 Traceback (most recent call last)",
      "Cell \u001b[1;32mIn[16], line 1\u001b[0m\n\u001b[1;32m----> 1\u001b[0m \u001b[38;5;28;01mif\u001b[39;00m \u001b[43mb\u001b[49m \u001b[38;5;241m==\u001b[39m \u001b[38;5;241m85\u001b[39m:\n\u001b[0;32m      2\u001b[0m     \u001b[38;5;28mprint\u001b[39m(b)\n\u001b[0;32m      3\u001b[0m \u001b[38;5;28;01melif\u001b[39;00m b\u001b[38;5;241m>\u001b[39m\u001b[38;5;241m85\u001b[39m:\n",
      "\u001b[1;31mNameError\u001b[0m: name 'b' is not defined"
     ]
    }
   ],
   "source": [
    "if b == 85:\n",
    "    print(b)\n",
    "elif b>85:\n",
    "    print(\"Greater\")\n",
    "else :\n",
    "    print(\"Smaller\")\n",
    "    "
   ]
  },
  {
   "cell_type": "code",
   "execution_count": 17,
   "id": "c6e30a46-799d-4e7a-8436-e3c265cbb11d",
   "metadata": {},
   "outputs": [],
   "source": [
    "b=8"
   ]
  },
  {
   "cell_type": "code",
   "execution_count": 12,
   "id": "d429f893-cf71-41c4-8819-65d44de248d9",
   "metadata": {},
   "outputs": [
    {
     "name": "stdout",
     "output_type": "stream",
     "text": [
      "smaller\n"
     ]
    }
   ],
   "source": [
    "if b == 85:\n",
    "    print(b)\n",
    "elif b>85:\n",
    "    print(\"greater\")\n",
    "else :\n",
    "    print(\"smaller\")"
   ]
  },
  {
   "cell_type": "code",
   "execution_count": 13,
   "id": "0ffd79de-0dbc-40a4-8811-e1dcc828307b",
   "metadata": {},
   "outputs": [
    {
     "data": {
      "text/plain": [
       "8"
      ]
     },
     "execution_count": 13,
     "metadata": {},
     "output_type": "execute_result"
    }
   ],
   "source": [
    "b"
   ]
  },
  {
   "cell_type": "code",
   "execution_count": 14,
   "id": "21505387-0cdc-4524-8303-33a3d558607e",
   "metadata": {},
   "outputs": [
    {
     "data": {
      "text/plain": [
       "85"
      ]
     },
     "execution_count": 14,
     "metadata": {},
     "output_type": "execute_result"
    }
   ],
   "source": [
    "85"
   ]
  },
  {
   "cell_type": "code",
   "execution_count": 1,
   "id": "d8349718-1104-477d-bc73-7359d23635dc",
   "metadata": {},
   "outputs": [],
   "source": [
    "#conditional operator is also known as assignment operator\n",
    "#1.a==b (check whether a and b are equal in values or not)\n",
    "#2.< example a < b (check whether a is greater or not)\n",
    "#3.> example a > b (check whether a is smaller or not)\n",
    "#4.! example a != b (check whether a is not equals to b)\n",
    "#5. example a <= b(check whether a is greater or equals to b or not)\n",
    "#6. example a >= b (check whether a is smaller or equals to b or not)"
   ]
  },
  {
   "cell_type": "code",
   "execution_count": 1,
   "id": "6a5227a8-250b-40a5-89bc-9848f174dd4e",
   "metadata": {},
   "outputs": [],
   "source": [
    "#logical operator\n",
    "#1. and example : condition 1 and condition 2 (check whether both condition are true or not if both condition is true then answer is true else answer is false)\n",
    "#2. or example : condition 1 and condition 2 (check whether both condition is true if any is true answer is true else false)\n",
    "#3. nor : a not b (check whether a is not equals to b )"
   ]
  },
  {
   "cell_type": "code",
   "execution_count": 2,
   "id": "e5f2607c-4501-4ecf-a644-e06dfdb6b5cd",
   "metadata": {},
   "outputs": [],
   "source": [
    "# question 1\n",
    "a=45"
   ]
  },
  {
   "cell_type": "code",
   "execution_count": 3,
   "id": "b52a00e7-c005-43d3-a7b0-b8b9647311c9",
   "metadata": {},
   "outputs": [],
   "source": [
    "b=98"
   ]
  },
  {
   "cell_type": "code",
   "execution_count": 4,
   "id": "ce97b6f7-b5ba-4eec-b3cd-c555e4386278",
   "metadata": {},
   "outputs": [],
   "source": [
    "c=a+b"
   ]
  },
  {
   "cell_type": "code",
   "execution_count": 5,
   "id": "cadc1126-5420-48ea-a8d4-46e93036f09a",
   "metadata": {},
   "outputs": [
    {
     "data": {
      "text/plain": [
       "143"
      ]
     },
     "execution_count": 5,
     "metadata": {},
     "output_type": "execute_result"
    }
   ],
   "source": [
    "c"
   ]
  },
  {
   "cell_type": "code",
   "execution_count": 7,
   "id": "dae8ad49-e6a4-4d56-966c-bfa30c54938e",
   "metadata": {},
   "outputs": [],
   "source": [
    "# question 2\n",
    "a=98"
   ]
  },
  {
   "cell_type": "code",
   "execution_count": 8,
   "id": "41b83b32-70a9-4785-971d-a17d23ea1832",
   "metadata": {},
   "outputs": [],
   "source": [
    "b=87"
   ]
  },
  {
   "cell_type": "code",
   "execution_count": 10,
   "id": "ce682447-7912-442d-a854-c00a8bfe50c8",
   "metadata": {},
   "outputs": [],
   "source": [
    "c=a+b\n",
    "d=a-b\n",
    "e=a*b\n",
    "f=a/b\n"
   ]
  },
  {
   "cell_type": "code",
   "execution_count": 11,
   "id": "b8a751bb-3be4-4a87-b6ec-9bf6178401cd",
   "metadata": {},
   "outputs": [
    {
     "data": {
      "text/plain": [
       "185"
      ]
     },
     "execution_count": 11,
     "metadata": {},
     "output_type": "execute_result"
    }
   ],
   "source": [
    "c"
   ]
  },
  {
   "cell_type": "code",
   "execution_count": 12,
   "id": "f7b50c44-428b-454b-bf5b-57eaa644a997",
   "metadata": {},
   "outputs": [
    {
     "data": {
      "text/plain": [
       "11"
      ]
     },
     "execution_count": 12,
     "metadata": {},
     "output_type": "execute_result"
    }
   ],
   "source": [
    "d"
   ]
  },
  {
   "cell_type": "code",
   "execution_count": 13,
   "id": "b8596a06-cdfd-458d-abfa-ed9ad0d6907f",
   "metadata": {},
   "outputs": [
    {
     "data": {
      "text/plain": [
       "8526"
      ]
     },
     "execution_count": 13,
     "metadata": {},
     "output_type": "execute_result"
    }
   ],
   "source": [
    "e"
   ]
  },
  {
   "cell_type": "code",
   "execution_count": 14,
   "id": "4c453e4f-c652-446d-8133-1a9c60d9f8b2",
   "metadata": {},
   "outputs": [
    {
     "data": {
      "text/plain": [
       "1.1264367816091954"
      ]
     },
     "execution_count": 14,
     "metadata": {},
     "output_type": "execute_result"
    }
   ],
   "source": [
    "f"
   ]
  },
  {
   "cell_type": "code",
   "execution_count": 3,
   "id": "07967bd5-9999-4b43-a292-79e198bba63d",
   "metadata": {
    "scrolled": true
   },
   "outputs": [
    {
     "name": "stdin",
     "output_type": "stream",
     "text": [
      "Length of recangle 46\n"
     ]
    }
   ],
   "source": [
    "#question 3\n",
    "length=int(input(\"Length of recangle\"))"
   ]
  },
  {
   "cell_type": "code",
   "execution_count": 4,
   "id": "b570154e-e92e-4ac0-a1ce-f3a9ceb14737",
   "metadata": {},
   "outputs": [
    {
     "name": "stdin",
     "output_type": "stream",
     "text": [
      "Breath of rectangle 45\n"
     ]
    }
   ],
   "source": [
    "breath=int(input(\"Breath of rectangle\"))"
   ]
  },
  {
   "cell_type": "code",
   "execution_count": 5,
   "id": "74609da4-43d3-4602-b235-f8f95b51f1cc",
   "metadata": {},
   "outputs": [],
   "source": [
    "area_of_rectangle =length*breath"
   ]
  },
  {
   "cell_type": "code",
   "execution_count": 6,
   "id": "a45fe56b-96ce-4563-a089-5ac119701bf8",
   "metadata": {},
   "outputs": [
    {
     "name": "stdout",
     "output_type": "stream",
     "text": [
      "2070\n"
     ]
    }
   ],
   "source": [
    "print(area_of_rectangle)"
   ]
  },
  {
   "cell_type": "code",
   "execution_count": 48,
   "id": "b87cf5b0-6a50-4d94-be64-4f6438382029",
   "metadata": {},
   "outputs": [],
   "source": [
    "l=85"
   ]
  },
  {
   "cell_type": "code",
   "execution_count": 32,
   "id": "e8f7d354-0932-43cc-bbc5-15478cd404a4",
   "metadata": {},
   "outputs": [],
   "source": [
    "b=54"
   ]
  },
  {
   "cell_type": "code",
   "execution_count": 34,
   "id": "9a350986-adf7-4ccb-a63a-e7c03d8ef6fb",
   "metadata": {},
   "outputs": [],
   "source": [
    "area=l*b"
   ]
  },
  {
   "cell_type": "code",
   "execution_count": 35,
   "id": "fd4eac72-b07e-4d47-987f-44cef8657a7a",
   "metadata": {},
   "outputs": [
    {
     "name": "stdout",
     "output_type": "stream",
     "text": [
      "4590\n"
     ]
    }
   ],
   "source": [
    "print(area )"
   ]
  },
  {
   "cell_type": "code",
   "execution_count": 1,
   "id": "f1684975-e869-446a-944a-3a6ecf223cfe",
   "metadata": {},
   "outputs": [],
   "source": [
    "#question 5\n",
    "R=7.5"
   ]
  },
  {
   "cell_type": "code",
   "execution_count": 3,
   "id": "6ab09860-56cd-44ea-9b09-a4042f6d147b",
   "metadata": {},
   "outputs": [],
   "source": [
    "area=3.14*R**2"
   ]
  },
  {
   "cell_type": "code",
   "execution_count": 4,
   "id": "d821ae1c-9139-418f-a5f2-736813d93eb9",
   "metadata": {},
   "outputs": [
    {
     "data": {
      "text/plain": [
       "176.625"
      ]
     },
     "execution_count": 4,
     "metadata": {},
     "output_type": "execute_result"
    }
   ],
   "source": [
    "area"
   ]
  },
  {
   "cell_type": "code",
   "execution_count": 10,
   "id": "b06e9000-2c2e-4bd3-85ce-336ae98d2ce9",
   "metadata": {},
   "outputs": [
    {
     "ename": "SyntaxError",
     "evalue": "invalid character '°' (U+00B0) (944943827.py, line 2)",
     "output_type": "error",
     "traceback": [
      "\u001b[1;36m  Cell \u001b[1;32mIn[10], line 2\u001b[1;36m\u001b[0m\n\u001b[1;33m    Temp=21°\u001b[0m\n\u001b[1;37m           ^\u001b[0m\n\u001b[1;31mSyntaxError\u001b[0m\u001b[1;31m:\u001b[0m invalid character '°' (U+00B0)\n"
     ]
    }
   ],
   "source": [
    "# question 7\n",
    "Temp=21°"
   ]
  },
  {
   "cell_type": "code",
   "execution_count": 11,
   "id": "d7989e79-50c2-4ce9-b1db-edda56b512b2",
   "metadata": {},
   "outputs": [],
   "source": [
    "temp=21"
   ]
  },
  {
   "cell_type": "code",
   "execution_count": 12,
   "id": "7d374cda-0684-4678-9af7-da5e04bdc82a",
   "metadata": {},
   "outputs": [],
   "source": [
    "F=(9/5*temp)+32"
   ]
  },
  {
   "cell_type": "code",
   "execution_count": 9,
   "id": "74a171d6-282b-4892-aad8-930538b27c1e",
   "metadata": {},
   "outputs": [
    {
     "data": {
      "text/plain": [
       "69.80000000000001"
      ]
     },
     "execution_count": 9,
     "metadata": {},
     "output_type": "execute_result"
    }
   ],
   "source": [
    "F"
   ]
  },
  {
   "cell_type": "code",
   "execution_count": 16,
   "id": "73ab0acf-f0f8-4354-bed3-c5bfc254b432",
   "metadata": {},
   "outputs": [],
   "source": [
    "#question 6\n",
    "CM=4500000"
   ]
  },
  {
   "cell_type": "code",
   "execution_count": 17,
   "id": "018b4e31-5d1a-474d-92e0-ed8c7da93dd4",
   "metadata": {},
   "outputs": [],
   "source": [
    "KM=CM*0.00001"
   ]
  },
  {
   "cell_type": "code",
   "execution_count": 18,
   "id": "2cadb72e-da8d-4e2f-b49f-3f3164a01adc",
   "metadata": {},
   "outputs": [
    {
     "data": {
      "text/plain": [
       "0.00045000000000000004"
      ]
     },
     "execution_count": 18,
     "metadata": {},
     "output_type": "execute_result"
    }
   ],
   "source": [
    "KM"
   ]
  },
  {
   "cell_type": "code",
   "execution_count": 19,
   "id": "f6065546-f60a-4e05-9cfb-0a48c65a9703",
   "metadata": {},
   "outputs": [],
   "source": [
    "M=CM*0.01"
   ]
  },
  {
   "cell_type": "code",
   "execution_count": 20,
   "id": "eaea8606-7a81-4d79-b4f0-ccae925ac736",
   "metadata": {},
   "outputs": [
    {
     "data": {
      "text/plain": [
       "0.45"
      ]
     },
     "execution_count": 20,
     "metadata": {},
     "output_type": "execute_result"
    }
   ],
   "source": [
    "M"
   ]
  },
  {
   "cell_type": "code",
   "execution_count": 21,
   "id": "10c1d888-13e8-4930-88f8-18a6c85ae379",
   "metadata": {},
   "outputs": [],
   "source": [
    "#question 8\n",
    "days=754"
   ]
  },
  {
   "cell_type": "code",
   "execution_count": 22,
   "id": "5c01a9f7-d1f8-4d13-a19a-f04a7a05bdca",
   "metadata": {},
   "outputs": [],
   "source": [
    "year=days/365"
   ]
  },
  {
   "cell_type": "code",
   "execution_count": 23,
   "id": "902137b6-8a2e-4b2c-8d6b-d9d83150cc08",
   "metadata": {},
   "outputs": [
    {
     "data": {
      "text/plain": [
       "2.0657534246575344"
      ]
     },
     "execution_count": 23,
     "metadata": {},
     "output_type": "execute_result"
    }
   ],
   "source": [
    "year"
   ]
  },
  {
   "cell_type": "code",
   "execution_count": 27,
   "id": "562dd6f5-845f-4de5-b81f-500efc7dfaa7",
   "metadata": {},
   "outputs": [],
   "source": [
    "#question 10\n",
    "#Marks of 5 students out of100"
   ]
  },
  {
   "cell_type": "code",
   "execution_count": 28,
   "id": "d5dbee13-d4e5-4e92-b406-c3ec7977afb4",
   "metadata": {},
   "outputs": [],
   "source": [
    "a=99\n",
    "b=54\n",
    "c=85\n",
    "d=89\n",
    "e=95"
   ]
  },
  {
   "cell_type": "code",
   "execution_count": 31,
   "id": "3ecae268-974f-4b01-bda6-6d9e8d61cbc4",
   "metadata": {},
   "outputs": [],
   "source": [
    "total_marks=500"
   ]
  },
  {
   "cell_type": "code",
   "execution_count": 37,
   "id": "9b878629-3374-4c86-9c26-53bdc5ae866d",
   "metadata": {},
   "outputs": [],
   "source": [
    "x=a+b+c+d+e"
   ]
  },
  {
   "cell_type": "code",
   "execution_count": 38,
   "id": "5f5ed758-eb27-4298-937c-bc231726d253",
   "metadata": {},
   "outputs": [
    {
     "data": {
      "text/plain": [
       "422"
      ]
     },
     "execution_count": 38,
     "metadata": {},
     "output_type": "execute_result"
    }
   ],
   "source": [
    "x"
   ]
  },
  {
   "cell_type": "code",
   "execution_count": 39,
   "id": "ecfcc813-1068-45cb-a608-43da432294ee",
   "metadata": {},
   "outputs": [],
   "source": [
    "average=x*100/total_marks"
   ]
  },
  {
   "cell_type": "code",
   "execution_count": 40,
   "id": "4785c96c-8503-4f22-ab1e-8f5be386532d",
   "metadata": {},
   "outputs": [
    {
     "data": {
      "text/plain": [
       "84.4"
      ]
     },
     "execution_count": 40,
     "metadata": {},
     "output_type": "execute_result"
    }
   ],
   "source": [
    "average"
   ]
  },
  {
   "cell_type": "code",
   "execution_count": 1,
   "id": "6962ce82-0709-40c6-8db7-f7e541e89d34",
   "metadata": {},
   "outputs": [],
   "source": [
    "x=3"
   ]
  },
  {
   "cell_type": "code",
   "execution_count": 6,
   "id": "c646853e-fb09-434c-9bdd-3dd27b25684b",
   "metadata": {},
   "outputs": [],
   "source": [
    "y=7"
   ]
  },
  {
   "cell_type": "code",
   "execution_count": 7,
   "id": "0a0df6eb-4fa7-4f06-bc7f-38a23953e51d",
   "metadata": {},
   "outputs": [],
   "source": [
    "z=x**y"
   ]
  },
  {
   "cell_type": "code",
   "execution_count": 8,
   "id": "2428ec3a-e8b5-4bce-8f1c-a9a2e1c04db8",
   "metadata": {},
   "outputs": [
    {
     "data": {
      "text/plain": [
       "2187"
      ]
     },
     "execution_count": 8,
     "metadata": {},
     "output_type": "execute_result"
    }
   ],
   "source": [
    "z"
   ]
  },
  {
   "cell_type": "code",
   "execution_count": 11,
   "id": "22930e69-0b48-4720-89be-3dea94a882ca",
   "metadata": {},
   "outputs": [],
   "source": [
    "a=98"
   ]
  },
  {
   "cell_type": "code",
   "execution_count": 12,
   "id": "e5db4c0d-b9c1-4fda-b6b7-5de231ff9ee2",
   "metadata": {},
   "outputs": [
    {
     "data": {
      "text/plain": [
       "98"
      ]
     },
     "execution_count": 12,
     "metadata": {},
     "output_type": "execute_result"
    }
   ],
   "source": [
    "a"
   ]
  },
  {
   "cell_type": "code",
   "execution_count": 14,
   "id": "daaddaf0-e61b-4e7f-81b7-d195e9a36ac3",
   "metadata": {},
   "outputs": [
    {
     "name": "stdout",
     "output_type": "stream",
     "text": [
      "greater\n"
     ]
    }
   ],
   "source": [
    "if a == 85:\n",
    "    print(a)\n",
    "elif a<85:\n",
    "    print(\"greater\")\n",
    "else:\n",
    "    print(\"smaller\")"
   ]
  },
  {
   "cell_type": "code",
   "execution_count": 25,
   "id": "403aba6f-6b80-47ee-9648-af8d669ba6b5",
   "metadata": {},
   "outputs": [
    {
     "name": "stdout",
     "output_type": "stream",
     "text": [
      "Smaller\n"
     ]
    }
   ],
   "source": [
    "if b== 78:\n",
    "    print(a)\n",
    "elif a>78:\n",
    "    print(\"Smaller\")\n",
    "else:\n",
    "    print(\"greater\")"
   ]
  },
  {
   "cell_type": "code",
   "execution_count": 16,
   "id": "87c310f2-e173-4035-9a4c-0a1efdbe4571",
   "metadata": {},
   "outputs": [],
   "source": [
    "a=95"
   ]
  },
  {
   "cell_type": "code",
   "execution_count": 17,
   "id": "367ab2c2-477f-429c-b9f2-1128094c8b56",
   "metadata": {},
   "outputs": [
    {
     "name": "stdout",
     "output_type": "stream",
     "text": [
      "small\n"
     ]
    }
   ],
   "source": [
    "if a == 85:\n",
    "    print(a)\n",
    "elif a<85:\n",
    "    print(\"great\")\n",
    "else:\n",
    "    print(\"small\")\n"
   ]
  },
  {
   "cell_type": "code",
   "execution_count": 8,
   "id": "16607378-b83c-448a-837a-d774ca946b82",
   "metadata": {},
   "outputs": [],
   "source": [
    "a=90"
   ]
  },
  {
   "cell_type": "code",
   "execution_count": 16,
   "id": "b4a3bf93-b88c-4674-95a9-b9cd153aa099",
   "metadata": {},
   "outputs": [
    {
     "name": "stdout",
     "output_type": "stream",
     "text": [
      "90\n"
     ]
    }
   ],
   "source": [
    "if a == 90:\n",
    "\n",
    "    print(a)\n",
    "elif a<90:\n",
    "    print(\"great\")\n",
    "else:\n",
    "    print(\"smaller\")"
   ]
  },
  {
   "cell_type": "code",
   "execution_count": 3,
   "id": "e230edcb-4b8e-49d0-aee9-8e59de5358cb",
   "metadata": {},
   "outputs": [],
   "source": [
    "b=25"
   ]
  },
  {
   "cell_type": "code",
   "execution_count": 4,
   "id": "e1904f4f-03ec-4ec9-a878-efa429f763ef",
   "metadata": {},
   "outputs": [
    {
     "name": "stdout",
     "output_type": "stream",
     "text": [
      "great\n"
     ]
    }
   ],
   "source": [
    "if b == 0:\n",
    "    print(b)\n",
    "elif b<75:\n",
    "    print(\"great\")\n",
    "elif b>=75:\n",
    "    print(\"greater\")\n",
    "else:\n",
    "    print(\"small\")"
   ]
  },
  {
   "cell_type": "code",
   "execution_count": null,
   "id": "a2f39ea6-51f3-4af8-ac51-6ad44d2a5a8e",
   "metadata": {},
   "outputs": [],
   "source": [
    "# 10 "
   ]
  },
  {
   "cell_type": "code",
   "execution_count": 12,
   "id": "47248724-5fbb-489e-94c7-b91783b22fdc",
   "metadata": {},
   "outputs": [],
   "source": [
    "a=45\n",
    "b=78\n",
    "c=90"
   ]
  },
  {
   "cell_type": "code",
   "execution_count": 7,
   "id": "50e74c95-bfac-4040-bbcb-1cad0f0f724f",
   "metadata": {},
   "outputs": [],
   "source": []
  },
  {
   "cell_type": "code",
   "execution_count": 8,
   "id": "baaf8442-7770-4276-b858-1090b5f26eb6",
   "metadata": {},
   "outputs": [
    {
     "data": {
      "text/plain": [
       "(45, 86)"
      ]
     },
     "execution_count": 8,
     "metadata": {},
     "output_type": "execute_result"
    }
   ],
   "source": [
    "a,b"
   ]
  },
  {
   "cell_type": "code",
   "execution_count": 2,
   "id": "eeb145cb-1782-486f-9700-1822cc2e5971",
   "metadata": {},
   "outputs": [
    {
     "name": "stdin",
     "output_type": "stream",
     "text": [
      "Enter the first value 45\n"
     ]
    }
   ],
   "source": [
    "a=int(input(\"Enter the first value\")"
   ]
  },
  {
   "cell_type": "code",
   "execution_count": 3,
   "id": "69214cdc-eb3a-44fb-8d60-7b3746a389c8",
   "metadata": {},
   "outputs": [
    {
     "data": {
      "text/plain": [
       "45"
      ]
     },
     "execution_count": 3,
     "metadata": {},
     "output_type": "execute_result"
    }
   ],
   "source": [
    "a"
   ]
  },
  {
   "cell_type": "code",
   "execution_count": 4,
   "id": "24fcca42-f223-45b9-8d0a-4c65f3c36df8",
   "metadata": {},
   "outputs": [
    {
     "name": "stdin",
     "output_type": "stream",
     "text": [
      "Enter thr first letter 75\n",
      "Enter the second value 85\n",
      "Enter the third value 62\n"
     ]
    }
   ],
   "source": [
    "a=int(input(\"Enter thr first letter\"))\n",
    "b=int(input(\"Enter the second value\"))\n",
    "c=int(input(\"Enter the third value\"))"
   ]
  },
  {
   "cell_type": "code",
   "execution_count": 6,
   "id": "93f18807-43d6-4faa-97b4-773f201965e5",
   "metadata": {},
   "outputs": [
    {
     "data": {
      "text/plain": [
       "(75, 85, 62)"
      ]
     },
     "execution_count": 6,
     "metadata": {},
     "output_type": "execute_result"
    }
   ],
   "source": [
    "a,b,c"
   ]
  },
  {
   "cell_type": "code",
   "execution_count": 7,
   "id": "b8626982-ac13-4d41-82cc-9934fa6549d4",
   "metadata": {},
   "outputs": [
    {
     "name": "stdout",
     "output_type": "stream",
     "text": [
      "great value is: 62\n"
     ]
    }
   ],
   "source": [
    "if (a<b) and (a<c):\n",
    "    print(\"Great value is:\",a)\n",
    "elif (b>a) and (b<c):\n",
    "    print(\"great vslue is:\",b)\n",
    "else:\n",
    "    print(\"great value is:\",c)"
   ]
  },
  {
   "cell_type": "code",
   "execution_count": 9,
   "id": "cdb74a3a-5128-4aca-a62f-429ab0290d94",
   "metadata": {},
   "outputs": [
    {
     "name": "stdin",
     "output_type": "stream",
     "text": [
      "Enter the value 5\n"
     ]
    },
    {
     "name": "stdout",
     "output_type": "stream",
     "text": [
      "odd\n"
     ]
    }
   ],
   "source": [
    "a=int(input(\"Enter the value\"))\n",
    "if (a%2 == 0):\n",
    "    print(\"even\")\n",
    "else:\n",
    "    print(\"odd\")"
   ]
  },
  {
   "cell_type": "code",
   "execution_count": 23,
   "id": "dccd70fa-b04e-4bc8-ac23-993e4f8485f9",
   "metadata": {},
   "outputs": [
    {
     "name": "stdin",
     "output_type": "stream",
     "text": [
      "Enter the value 0\n"
     ]
    },
    {
     "name": "stdout",
     "output_type": "stream",
     "text": [
      "negative\n"
     ]
    }
   ],
   "source": [
    "a=int(input(\"Enter the value\"))\n",
    "if (a>1):\n",
    "    print(\"positive\")\n",
    "elif (a<1):\n",
    "    print(\"negative\")\n",
    "else:\n",
    "    print(\"Zero\")"
   ]
  },
  {
   "cell_type": "code",
   "execution_count": 23,
   "id": "b2ccd3a9-590c-4bd1-8dd3-13991276ee31",
   "metadata": {},
   "outputs": [
    {
     "name": "stdin",
     "output_type": "stream",
     "text": [
      "number of days 365\n"
     ]
    },
    {
     "name": "stdout",
     "output_type": "stream",
     "text": [
      "not leap\n"
     ]
    }
   ],
   "source": [
    "a=int(input(\"number of days\"))\n",
    "if (a==365):\n",
    "    print(\"not leap\")\n",
    "elif (a==366):\n",
    "\n",
    "    print(\"leap\")"
   ]
  },
  {
   "cell_type": "code",
   "execution_count": 3,
   "id": "5ad139f4-dfc4-4d21-9d28-51e92c33ee75",
   "metadata": {},
   "outputs": [
    {
     "name": "stdin",
     "output_type": "stream",
     "text": [
      "Enter the alphabet a\n"
     ]
    },
    {
     "ename": "ValueError",
     "evalue": "invalid literal for int() with base 10: 'a'",
     "output_type": "error",
     "traceback": [
      "\u001b[1;31m---------------------------------------------------------------------------\u001b[0m",
      "\u001b[1;31mValueError\u001b[0m                                Traceback (most recent call last)",
      "Cell \u001b[1;32mIn[3], line 1\u001b[0m\n\u001b[1;32m----> 1\u001b[0m _1\u001b[38;5;241m=\u001b[39m\u001b[38;5;28;43mint\u001b[39;49m\u001b[43m(\u001b[49m\u001b[38;5;28;43minput\u001b[39;49m\u001b[43m(\u001b[49m\u001b[38;5;124;43m\"\u001b[39;49m\u001b[38;5;124;43mEnter the alphabet\u001b[39;49m\u001b[38;5;124;43m\"\u001b[39;49m\u001b[43m)\u001b[49m\u001b[43m)\u001b[49m\n\u001b[0;32m      2\u001b[0m \u001b[38;5;28;01mif\u001b[39;00m (_1\u001b[38;5;241m==\u001b[39ma):\n\u001b[0;32m      3\u001b[0m        \u001b[38;5;28mprint\u001b[39m(\u001b[38;5;124m\"\u001b[39m\u001b[38;5;124mvowel\u001b[39m\u001b[38;5;124m\"\u001b[39m)\n",
      "\u001b[1;31mValueError\u001b[0m: invalid literal for int() with base 10: 'a'"
     ]
    }
   ],
   "source": [
    "_1=input()"
   ]
  },
  {
   "cell_type": "code",
   "execution_count": 8,
   "id": "91ffd299-e16a-4063-9f16-a659eeee3018",
   "metadata": {},
   "outputs": [
    {
     "name": "stdin",
     "output_type": "stream",
     "text": [
      " 45\n"
     ]
    },
    {
     "name": "stdout",
     "output_type": "stream",
     "text": [
      "1\n",
      "2\n",
      "3\n",
      "4\n",
      "5\n",
      "6\n",
      "7\n",
      "8\n",
      "9\n",
      "10\n",
      "11\n",
      "12\n",
      "13\n",
      "14\n",
      "15\n",
      "16\n",
      "17\n",
      "18\n",
      "19\n",
      "20\n",
      "21\n",
      "22\n",
      "23\n",
      "24\n",
      "25\n",
      "26\n",
      "27\n",
      "28\n",
      "29\n",
      "30\n",
      "31\n",
      "32\n",
      "33\n",
      "34\n",
      "35\n",
      "36\n",
      "37\n",
      "38\n",
      "39\n",
      "40\n",
      "41\n",
      "42\n",
      "43\n",
      "44\n"
     ]
    }
   ],
   "source": [
    "a=int(input())\n",
    "for b in range(1,a):\n",
    "    print(b)"
   ]
  },
  {
   "cell_type": "code",
   "execution_count": null,
   "id": "188ab868-8971-4862-adc2-b4d176fffd40",
   "metadata": {},
   "outputs": [],
   "source": [
    "name = input(\"Enter the name\")\n",
    "match name:\n",
    "\n",
    "\n"
   ]
  },
  {
   "cell_type": "code",
   "execution_count": 1,
   "id": "16110eb3-66b7-4701-82d6-b4b130380938",
   "metadata": {},
   "outputs": [
    {
     "name": "stdin",
     "output_type": "stream",
     "text": [
      "Enter the word s\n"
     ]
    },
    {
     "name": "stdout",
     "output_type": "stream",
     "text": [
      "consonent\n"
     ]
    }
   ],
   "source": [
    "a=input(\"Enter the word\")\n",
    "if a==\"a\" or a==\"e\" or a==\"i\" or a==\"o\" or a==\"u\":\n",
    "    print(\"vowel\")\n",
    "else:\n",
    "    print(\"consonent\")"
   ]
  },
  {
   "cell_type": "code",
   "execution_count": 5,
   "id": "76b29408-cecb-44aa-8314-3e0ff7d71009",
   "metadata": {},
   "outputs": [
    {
     "name": "stdin",
     "output_type": "stream",
     "text": [
      " 45\n"
     ]
    },
    {
     "name": "stdout",
     "output_type": "stream",
     "text": [
      "1\n",
      "2\n",
      "3\n",
      "4\n",
      "5\n",
      "6\n",
      "7\n",
      "8\n",
      "9\n",
      "10\n",
      "11\n",
      "12\n",
      "13\n",
      "14\n",
      "15\n",
      "16\n",
      "17\n",
      "18\n",
      "19\n",
      "20\n",
      "21\n",
      "22\n",
      "23\n",
      "24\n",
      "25\n",
      "26\n",
      "27\n",
      "28\n",
      "29\n",
      "30\n",
      "31\n",
      "32\n",
      "33\n",
      "34\n",
      "35\n",
      "36\n",
      "37\n",
      "38\n",
      "39\n",
      "40\n",
      "41\n",
      "42\n",
      "43\n",
      "44\n"
     ]
    }
   ],
   "source": [
    "a=int(input())\n",
    "for d in range(1,a):\n",
    "    print(d)\n",
    "\n"
   ]
  },
  {
   "cell_type": "code",
   "execution_count": 1,
   "id": "8fe00b66-bacf-42a0-bf5c-64756a25027b",
   "metadata": {},
   "outputs": [],
   "source": [
    "#while loop\n",
    "i=10"
   ]
  },
  {
   "cell_type": "code",
   "execution_count": 2,
   "id": "f11b63af-0abc-486c-a6bf-9303cc6711ca",
   "metadata": {},
   "outputs": [
    {
     "name": "stdout",
     "output_type": "stream",
     "text": [
      "10\n",
      "9\n",
      "8\n",
      "7\n",
      "6\n",
      "5\n",
      "4\n",
      "3\n",
      "2\n",
      "1\n",
      "0\n"
     ]
    }
   ],
   "source": [
    "while(i>=0):\n",
    "    print(i)\n",
    "    i-=1\n"
   ]
  },
  {
   "cell_type": "code",
   "execution_count": 2,
   "id": "1a36c030-4bf0-43a9-a1f1-3391fd222732",
   "metadata": {},
   "outputs": [],
   "source": [
    "i=0"
   ]
  },
  {
   "cell_type": "code",
   "execution_count": 3,
   "id": "9106b297-9844-43a0-9f34-6654c85df4ae",
   "metadata": {},
   "outputs": [
    {
     "name": "stdout",
     "output_type": "stream",
     "text": [
      "0\n",
      "1\n",
      "2\n",
      "3\n",
      "4\n",
      "5\n",
      "6\n",
      "7\n",
      "8\n",
      "9\n",
      "10\n"
     ]
    }
   ],
   "source": [
    "while(i<=10):\n",
    "    print(i)\n",
    "    i+=1"
   ]
  },
  {
   "cell_type": "code",
   "execution_count": 6,
   "id": "c3c59e7a-cc7d-4e99-b60d-e4f6a1315a77",
   "metadata": {},
   "outputs": [],
   "source": [
    "a=30"
   ]
  },
  {
   "cell_type": "code",
   "execution_count": 7,
   "id": "c2852486-c8fb-4e43-82aa-1aa57ea88ed4",
   "metadata": {},
   "outputs": [
    {
     "name": "stdout",
     "output_type": "stream",
     "text": [
      "30\n",
      "29\n",
      "28\n",
      "27\n",
      "26\n",
      "25\n",
      "24\n",
      "23\n",
      "22\n",
      "21\n",
      "20\n",
      "19\n",
      "18\n",
      "17\n",
      "16\n",
      "15\n",
      "14\n",
      "13\n",
      "12\n",
      "11\n",
      "10\n",
      "9\n",
      "8\n",
      "7\n",
      "6\n",
      "5\n",
      "4\n",
      "3\n",
      "2\n",
      "1\n",
      "0\n"
     ]
    }
   ],
   "source": [
    "while(a>=0):\n",
    "    print(a)\n",
    "    a-=1"
   ]
  },
  {
   "cell_type": "code",
   "execution_count": 10,
   "id": "b0d2b1c6-df12-45a8-8ea5-e328044b1621",
   "metadata": {},
   "outputs": [],
   "source": [
    "b=0"
   ]
  },
  {
   "cell_type": "code",
   "execution_count": 11,
   "id": "1627f1ab-3691-4842-b959-7f708554bfad",
   "metadata": {},
   "outputs": [
    {
     "name": "stdout",
     "output_type": "stream",
     "text": [
      "0\n",
      "2\n",
      "4\n",
      "6\n",
      "8\n",
      "10\n",
      "12\n",
      "14\n",
      "16\n",
      "18\n",
      "20\n"
     ]
    }
   ],
   "source": [
    "while(b<=20):\n",
    "    print(b)\n",
    "    b+=1+1"
   ]
  },
  {
   "cell_type": "code",
   "execution_count": 14,
   "id": "5718db26-f1b9-47fa-89f6-41505599a200",
   "metadata": {},
   "outputs": [],
   "source": [
    "b=0"
   ]
  },
  {
   "cell_type": "code",
   "execution_count": 15,
   "id": "3ed317a7-604d-45ea-b30b-738368ce5b9a",
   "metadata": {},
   "outputs": [
    {
     "name": "stdout",
     "output_type": "stream",
     "text": [
      "0\n",
      "3\n",
      "6\n",
      "9\n",
      "12\n",
      "15\n",
      "18\n",
      "21\n",
      "24\n",
      "27\n",
      "30\n",
      "33\n",
      "36\n",
      "39\n",
      "42\n",
      "45\n",
      "48\n"
     ]
    }
   ],
   "source": [
    "while(b<50):\n",
    "    print(b)\n",
    "    b+=3"
   ]
  },
  {
   "cell_type": "code",
   "execution_count": 4,
   "id": "ae7e6ec3-4b0e-45fe-8ebf-0ae4bc8a62c4",
   "metadata": {},
   "outputs": [],
   "source": [
    "a=10"
   ]
  },
  {
   "cell_type": "code",
   "execution_count": 5,
   "id": "f63287e1-6abf-404d-b7b0-58253c713ef3",
   "metadata": {},
   "outputs": [],
   "source": [
    "while(a<=0):\n",
    "    print(a)\n",
    "    a=-1"
   ]
  },
  {
   "cell_type": "code",
   "execution_count": 6,
   "id": "d7f19acb-3a2d-4222-9da8-d55106edf853",
   "metadata": {},
   "outputs": [],
   "source": [
    "a=23"
   ]
  },
  {
   "cell_type": "code",
   "execution_count": 8,
   "id": "2acb4820-6d3b-49c3-9a81-14976aadd6fd",
   "metadata": {},
   "outputs": [],
   "source": [
    "while(a<=0):\n",
    "    print(a)\n",
    "    a=-1"
   ]
  },
  {
   "cell_type": "code",
   "execution_count": 12,
   "id": "624d5b17-1f16-4b73-b563-dad32dfabe4f",
   "metadata": {},
   "outputs": [
    {
     "name": "stdin",
     "output_type": "stream",
     "text": [
      " 23\n"
     ]
    },
    {
     "name": "stdout",
     "output_type": "stream",
     "text": [
      "1\n",
      "2\n",
      "3\n",
      "4\n",
      "5\n",
      "6\n",
      "7\n",
      "8\n",
      "9\n",
      "10\n",
      "11\n",
      "12\n",
      "13\n",
      "14\n",
      "15\n",
      "16\n",
      "17\n",
      "18\n",
      "19\n",
      "20\n",
      "21\n",
      "22\n",
      "23\n"
     ]
    }
   ],
   "source": [
    "a=int(input())\n",
    "for e in range(1,a+1):\n",
    "    print(e)\n",
    "    "
   ]
  },
  {
   "cell_type": "code",
   "execution_count": 1,
   "id": "c623f252-46e7-4176-befb-0dc775b0dd96",
   "metadata": {},
   "outputs": [],
   "source": [
    "a=0"
   ]
  },
  {
   "cell_type": "code",
   "execution_count": 2,
   "id": "7baad3b7-6f74-49de-b480-099727cadad2",
   "metadata": {},
   "outputs": [
    {
     "name": "stdout",
     "output_type": "stream",
     "text": [
      "0\n",
      "2\n",
      "4\n",
      "6\n",
      "8\n",
      "10\n",
      "12\n",
      "14\n",
      "16\n",
      "18\n",
      "20\n",
      "22\n",
      "24\n",
      "26\n",
      "28\n",
      "30\n",
      "32\n",
      "34\n",
      "36\n",
      "38\n",
      "40\n",
      "42\n",
      "44\n",
      "46\n",
      "48\n",
      "50\n",
      "52\n",
      "54\n",
      "56\n",
      "58\n",
      "60\n",
      "62\n",
      "64\n",
      "66\n",
      "68\n",
      "70\n",
      "72\n",
      "74\n",
      "76\n",
      "78\n",
      "80\n",
      "82\n",
      "84\n",
      "86\n",
      "88\n",
      "90\n",
      "92\n",
      "94\n",
      "96\n",
      "98\n",
      "100\n"
     ]
    }
   ],
   "source": [
    "while(a<=100):\n",
    "    print(a)\n",
    "    a+=2"
   ]
  },
  {
   "cell_type": "code",
   "execution_count": 28,
   "id": "f17444d1-a934-468b-9c6c-d59feb86ea12",
   "metadata": {},
   "outputs": [],
   "source": [
    "a=1"
   ]
  },
  {
   "cell_type": "code",
   "execution_count": 29,
   "id": "163abb0d-fe32-46f5-9aa9-d16a31559ae3",
   "metadata": {},
   "outputs": [
    {
     "name": "stdout",
     "output_type": "stream",
     "text": [
      "1\n",
      "3\n",
      "5\n",
      "7\n",
      "9\n",
      "11\n",
      "13\n",
      "15\n",
      "17\n",
      "19\n",
      "21\n",
      "23\n",
      "25\n",
      "27\n",
      "29\n",
      "31\n",
      "33\n",
      "35\n",
      "37\n",
      "39\n",
      "41\n",
      "43\n",
      "45\n",
      "47\n",
      "49\n",
      "51\n",
      "53\n",
      "55\n",
      "57\n",
      "59\n",
      "61\n",
      "63\n",
      "65\n",
      "67\n",
      "69\n",
      "71\n",
      "73\n",
      "75\n",
      "77\n",
      "79\n",
      "81\n",
      "83\n",
      "85\n",
      "87\n",
      "89\n",
      "91\n",
      "93\n",
      "95\n",
      "97\n",
      "99\n"
     ]
    }
   ],
   "source": [
    "while(a<=100):\n",
    "    print(a)\n",
    "    a+=2"
   ]
  },
  {
   "cell_type": "code",
   "execution_count": 9,
   "id": "ede15fbb-e87d-4c72-8817-2625e31f980d",
   "metadata": {},
   "outputs": [
    {
     "name": "stdout",
     "output_type": "stream",
     "text": [
      "1\n",
      "3\n",
      "5\n",
      "7\n",
      "9\n",
      "11\n",
      "13\n",
      "15\n",
      "17\n",
      "19\n",
      "21\n",
      "23\n",
      "25\n",
      "27\n",
      "29\n",
      "31\n",
      "33\n",
      "35\n",
      "37\n",
      "39\n",
      "41\n",
      "43\n",
      "45\n",
      "47\n",
      "49\n",
      "51\n",
      "53\n",
      "55\n",
      "57\n",
      "59\n",
      "61\n",
      "63\n",
      "65\n",
      "67\n",
      "69\n",
      "71\n",
      "73\n",
      "75\n",
      "77\n",
      "79\n",
      "81\n",
      "83\n",
      "85\n",
      "87\n",
      "89\n",
      "91\n",
      "93\n",
      "95\n",
      "97\n",
      "99\n"
     ]
    }
   ],
   "source": [
    "a=100\n",
    "b=1\n",
    "while(b<=a):\n",
    "    print(b)\n",
    "    b+=2"
   ]
  },
  {
   "cell_type": "code",
   "execution_count": 10,
   "id": "8719b07f-9ae7-4c29-bb1a-5186c79024aa",
   "metadata": {},
   "outputs": [
    {
     "name": "stdout",
     "output_type": "stream",
     "text": [
      "2\n",
      "4\n",
      "6\n",
      "8\n",
      "10\n",
      "12\n",
      "14\n",
      "16\n",
      "18\n",
      "20\n",
      "22\n",
      "24\n",
      "26\n",
      "28\n",
      "30\n",
      "32\n",
      "34\n",
      "36\n",
      "38\n",
      "40\n",
      "42\n",
      "44\n",
      "46\n",
      "48\n",
      "50\n",
      "52\n",
      "54\n",
      "56\n",
      "58\n",
      "60\n",
      "62\n",
      "64\n",
      "66\n",
      "68\n",
      "70\n",
      "72\n",
      "74\n",
      "76\n",
      "78\n",
      "80\n",
      "82\n",
      "84\n",
      "86\n",
      "88\n",
      "90\n",
      "92\n",
      "94\n",
      "96\n",
      "98\n",
      "100\n"
     ]
    }
   ],
   "source": [
    "a=100\n",
    "b=2\n",
    "while(b<=a):\n",
    "    print(b)\n",
    "    b+=2"
   ]
  },
  {
   "cell_type": "code",
   "execution_count": 22,
   "id": "2d380abf-c93b-4b84-bc25-1748ab322acd",
   "metadata": {},
   "outputs": [
    {
     "name": "stdin",
     "output_type": "stream",
     "text": [
      " 45\n"
     ]
    },
    {
     "name": "stdout",
     "output_type": "stream",
     "text": [
      "1\n",
      "2\n",
      "3\n",
      "4\n",
      "5\n",
      "6\n",
      "7\n",
      "8\n",
      "9\n",
      "10\n",
      "11\n",
      "12\n",
      "13\n",
      "14\n",
      "15\n",
      "16\n",
      "17\n",
      "18\n",
      "19\n",
      "20\n",
      "21\n",
      "22\n",
      "23\n",
      "24\n",
      "25\n",
      "26\n",
      "27\n",
      "28\n",
      "29\n",
      "30\n",
      "31\n",
      "32\n",
      "33\n",
      "34\n",
      "35\n",
      "36\n",
      "37\n",
      "38\n",
      "39\n",
      "40\n",
      "41\n",
      "42\n",
      "43\n",
      "44\n"
     ]
    }
   ],
   "source": [
    "a=int(input())\n",
    "for b in range(1,a):\n",
    "    print(b)"
   ]
  },
  {
   "cell_type": "code",
   "execution_count": 9,
   "id": "c1dc9414-cd11-4f25-9612-d5121d3221e3",
   "metadata": {},
   "outputs": [],
   "source": [
    "a=2"
   ]
  },
  {
   "cell_type": "code",
   "execution_count": 10,
   "id": "dbd3e5f5-f2d5-49c7-819b-c776a60e52ad",
   "metadata": {},
   "outputs": [
    {
     "name": "stdout",
     "output_type": "stream",
     "text": [
      "2\n",
      "4\n",
      "6\n",
      "8\n",
      "10\n"
     ]
    }
   ],
   "source": [
    "while(a<=10):\n",
    "    print(a)\n",
    "    a+=2"
   ]
  },
  {
   "cell_type": "code",
   "execution_count": 11,
   "id": "89872708-0c38-426d-a44f-1956e72d2509",
   "metadata": {},
   "outputs": [
    {
     "name": "stdout",
     "output_type": "stream",
     "text": [
      "5\n",
      "10\n",
      "15\n",
      "20\n",
      "25\n",
      "30\n",
      "35\n",
      "40\n",
      "45\n",
      "50\n"
     ]
    }
   ],
   "source": [
    "a=50\n",
    "b=5\n",
    "while(a>=b):\n",
    "    print(b)\n",
    "    b+=5"
   ]
  },
  {
   "cell_type": "code",
   "execution_count": null,
   "id": "11fa2647-f94a-4b18-9902-fc0c5533274d",
   "metadata": {},
   "outputs": [],
   "source": [
    "num=int(input(\"Enter the number\"))\n",
    "org=num\n",
    "rev=0\n",
    "temp=0\n",
    "while(num<0):\n",
    "    temp=num%10\n",
    "    rev=rev*10\n",
    "    num=num"
   ]
  },
  {
   "cell_type": "code",
   "execution_count": null,
   "id": "4e98668e-5ff2-4821-8509-bc0c818c7d65",
   "metadata": {},
   "outputs": [],
   "source": []
  }
 ],
 "metadata": {
  "kernelspec": {
   "display_name": "Python 3 (ipykernel)",
   "language": "python",
   "name": "python3"
  },
  "language_info": {
   "codemirror_mode": {
    "name": "ipython",
    "version": 3
   },
   "file_extension": ".py",
   "mimetype": "text/x-python",
   "name": "python",
   "nbconvert_exporter": "python",
   "pygments_lexer": "ipython3",
   "version": "3.12.1"
  }
 },
 "nbformat": 4,
 "nbformat_minor": 5
}
